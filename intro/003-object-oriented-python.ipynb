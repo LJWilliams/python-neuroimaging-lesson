{
 "cells": [
  {
   "cell_type": "markdown",
   "metadata": {},
   "source": [
    "## Object-oriented programming in Python\n",
    "\n",
    "Object-oriented programming is powerful programming paradigm that allows us to build complext abstractions and to systematically relate different abstractions to each other.\n",
    "It enhances the reusability of ideas and makes your code, if the abstractions are the right ones (...) more powerful and  more consistent.\n",
    "Through introspection, It also lets your data-structures tell you about themselves. "
   ]
  },
  {
   "cell_type": "markdown",
   "metadata": {},
   "source": [
    "Here is Steve Jobs' explanation of object-oriented programming in a [1994 Rolling Stones interview](http://www.rollingstone.com/culture/news/steve-jobs-in-1994-the-rolling-stone-interview-20110117):\n",
    "\n",
    "    Jeff Goodell: Would you explain, in simple terms, exactly what object-oriented software is?\n",
    "    \n",
    "    Steve Jobs: Objects are like people. They're living, breathing things that have knowledge inside them about \n",
    "    how to do things and have memory inside them so they can remember things. And rather than interacting with \n",
    "    them at a very low level, you interact with them at a very high level of abstraction, like we're doing right \n",
    "    here.\n",
    "\n",
    "    Here's an example: If I'm your laundry object, you can give me your dirty clothes and send me a message that \n",
    "    says, \"Can you get my clothes laundered, please.\" I happen to know where the best laundry place in \n",
    "    San Francisco is. And I speak English, and I have dollars in my pockets. So I go out and hail a taxicab and \n",
    "    tell the driver to take me to this place in San Francisco. I go get your clothes laundered, I jump back in the \n",
    "    cab, I get back here. I give you your clean clothes and say, \"Here are your clean clothes.\"\n",
    "\n",
    "    You have no idea how I did that. You have no knowledge of the laundry place. Maybe you speak French, and you \n",
    "    can't even hail a taxi. You can't pay for one, you don't have dollars in your pocket. Yet I knew how to do all \n",
    "    of that. And you didn't have to know any of it. All that complexity was hidden inside of me, and we were able to \n",
    "    interact at a very high level of abstraction. That's what objects are. They encapsulate complexity, and the \n",
    "    interfaces to that complexity are high level."
   ]
  },
  {
   "cell_type": "markdown",
   "metadata": {},
   "source": [
    "## Building classes \n",
    "\n",
    "We'll implement a simple set of classes that can be used to do geometry. A\n",
    "class is defined using the `class` key-word: "
   ]
  },
  {
   "cell_type": "code",
   "execution_count": 1,
   "metadata": {
    "collapsed": false
   },
   "outputs": [],
   "source": [
    "class  Point():\n",
    "    \"\"\"A class for representing points in the planes \"\"\" \n",
    "    def __init__(self, x, y):\n",
    "        \"\"\" \n",
    "        Initialize a Point class instance\n",
    "        \n",
    "        ... more here ...\n",
    "        \"\"\"\n",
    "        self.x = x\n",
    "        self.y = y"
   ]
  },
  {
   "cell_type": "code",
   "execution_count": 2,
   "metadata": {
    "collapsed": false
   },
   "outputs": [],
   "source": [
    "p1 = Point(10, 10)"
   ]
  },
  {
   "cell_type": "code",
   "execution_count": 3,
   "metadata": {
    "collapsed": false
   },
   "outputs": [
    {
     "data": {
      "text/plain": [
       "10"
      ]
     },
     "execution_count": 3,
     "metadata": {},
     "output_type": "execute_result"
    }
   ],
   "source": [
    "p1.x"
   ]
  },
  {
   "cell_type": "markdown",
   "metadata": {},
   "source": [
    "Here, we've defined the x and y coordinates of this point on the plain. The\n",
    "variables `x` and `y` are called 'attributes' of each instance of this\n",
    "class. We can define functions that use this class:"
   ]
  },
  {
   "cell_type": "code",
   "execution_count": 4,
   "metadata": {
    "collapsed": false
   },
   "outputs": [],
   "source": [
    "# Since we're using numpy here, let's import it: \n",
    "import numpy as np\n",
    "\n",
    "def distance(p1, p2):\n",
    "    return np.sqrt((p1.x - p2.x)**2 + (p1.y - p2.y)**2)\n",
    "    \n",
    "    "
   ]
  },
  {
   "cell_type": "code",
   "execution_count": 5,
   "metadata": {
    "collapsed": false
   },
   "outputs": [],
   "source": [
    "p2 = Point(0,0)"
   ]
  },
  {
   "cell_type": "code",
   "execution_count": 6,
   "metadata": {
    "collapsed": false
   },
   "outputs": [
    {
     "data": {
      "text/plain": [
       "14.142135623730951"
      ]
     },
     "execution_count": 6,
     "metadata": {},
     "output_type": "execute_result"
    }
   ],
   "source": [
    "distance(p1, p2)"
   ]
  },
  {
   "cell_type": "markdown",
   "metadata": {},
   "source": [
    "Consider writing a test of this here... "
   ]
  },
  {
   "cell_type": "markdown",
   "metadata": {},
   "source": [
    "Alternatively, you can define the distance function as a 'method' of the class. These are special attributes, that are also functions:"
   ]
  },
  {
   "cell_type": "code",
   "execution_count": 7,
   "metadata": {
    "collapsed": false
   },
   "outputs": [],
   "source": [
    "class Point():\n",
    "    \"\"\"A class for representing points in the planes \"\"\" \n",
    "    def __init__(self, x, y):\n",
    "        \"\"\" \n",
    "        Initialize a Point class instance\n",
    "        \n",
    "        ... more here ...\n",
    "        \"\"\"\n",
    "        self.x = x\n",
    "        self.y = y\n",
    "        \n",
    "    def distance(self, p2):\n",
    "        \"\"\"Calculate the distance to another Point\n",
    "            \n",
    "        Parameters\n",
    "        ----------\n",
    "        p2 : Point class instance\n",
    "        \n",
    "        \"\"\"\n",
    "        return np.sqrt((self.x - p2.x)**2 + (self.y - p2.y)**2)"
   ]
  },
  {
   "cell_type": "markdown",
   "metadata": {},
   "source": [
    "This object knows how to compute the distance between itself and other objects of the same kind"
   ]
  },
  {
   "cell_type": "code",
   "execution_count": 8,
   "metadata": {
    "collapsed": false
   },
   "outputs": [
    {
     "data": {
      "text/plain": [
       "14.142135623730951"
      ]
     },
     "execution_count": 8,
     "metadata": {},
     "output_type": "execute_result"
    }
   ],
   "source": [
    "p1 = Point(10, 10)\n",
    "p2 = Point(0, 0)\n",
    "\n",
    "p1.distance(p2)"
   ]
  },
  {
   "cell_type": "markdown",
   "metadata": {},
   "source": [
    "Other objects can be built using this object. For example: "
   ]
  },
  {
   "cell_type": "code",
   "execution_count": 9,
   "metadata": {
    "collapsed": false
   },
   "outputs": [],
   "source": [
    "class Circle():\n",
    "    \"\"\"Represent circles\"\"\" \n",
    "    def __init__(self, center_x, center_y, radius):\n",
    "        \"\"\" \n",
    "        Initialize a Point class instance\n",
    "        \"\"\"\n",
    "        self.center = Point(center_x, center_y)\n",
    "        self.radius = radius\n",
    "        \n",
    "    def area(self):\n",
    "        return np.pi * self.radius ** 2\n",
    "\n",
    "    def circumference(self):\n",
    "        return 2 * np.pi * self.radius\n",
    "    \n",
    "    def distance(self, c2):\n",
    "        \"\"\" Calculates the center-to-center distance between two circles \"\"\"\n",
    "        return self.center.distance(c2.center)\n",
    "    "
   ]
  },
  {
   "cell_type": "markdown",
   "metadata": {},
   "source": [
    "Alternatively, you can build objects through inherticance: \n",
    "\n",
    "\n"
   ]
  },
  {
   "cell_type": "code",
   "execution_count": 10,
   "metadata": {
    "collapsed": false
   },
   "outputs": [],
   "source": [
    "class FancyPoint(Point):\n",
    "    def __init__(self, x, y, color):\n",
    "        \"\"\"A colorful point\"\"\" \n",
    "        Point.__init__(self, x, y)\n",
    "\n",
    "        self.R = color[0]\n",
    "        self.G = color[1]\n",
    "        self.B = color[2]\n",
    "        \n",
    "    def color_distance(self, fp2):\n",
    "        \"\"\" \n",
    "        Calculate the distance between FancyPoint objects in RGB space\n",
    "        \"\"\" \n",
    "        return np.sqrt((self.R - fp2.R)**2 + (self.G - fp2.G)**2 +(self.B - fp2.B)**2)"
   ]
  },
  {
   "cell_type": "code",
   "execution_count": 11,
   "metadata": {
    "collapsed": false
   },
   "outputs": [],
   "source": [
    "fp1 = FancyPoint(10, 10, [0, 0, 1])\n",
    "fp2 = FancyPoint(0, 0, [1, 1, 1])"
   ]
  },
  {
   "cell_type": "code",
   "execution_count": 12,
   "metadata": {
    "collapsed": false
   },
   "outputs": [
    {
     "data": {
      "text/plain": [
       "1.4142135623730951"
      ]
     },
     "execution_count": 12,
     "metadata": {},
     "output_type": "execute_result"
    }
   ],
   "source": [
    "fp1.color_distance(fp2)"
   ]
  },
  {
   "cell_type": "markdown",
   "metadata": {},
   "source": [
    "## When should we inherit? \n",
    "\n",
    "If you are creating a new class, the basic question you should ask is:\n",
    "\n",
    "** Is my new class \"an X\" , or does it \"have an X\"? ** \n",
    "\n",
    "If the answer is the former, you can inherit from X. Otherwise, you should just have X be an attribute of your new class."
   ]
  }
 ],
 "metadata": {
  "kernelspec": {
   "display_name": "Python 2",
   "language": "python",
   "name": "python2"
  },
  "language_info": {
   "codemirror_mode": {
    "name": "ipython",
    "version": 2
   },
   "file_extension": ".py",
   "mimetype": "text/x-python",
   "name": "python",
   "nbconvert_exporter": "python",
   "pygments_lexer": "ipython2",
   "version": "2.7.10"
  }
 },
 "nbformat": 4,
 "nbformat_minor": 0
}
