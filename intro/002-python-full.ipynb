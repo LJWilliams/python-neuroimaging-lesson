{
 "cells": [
  {
   "cell_type": "markdown",
   "metadata": {},
   "source": [
    "# Python Basics\n",
    "\n",
    "Prepared by: Ariel Rokem   \n",
    "Thanks to: Matt Davis, Justin Kitzes (Software Carpentry)"
   ]
  },
  {
   "cell_type": "markdown",
   "metadata": {},
   "source": [
    "## Welcome to the notebook! \n",
    "\n",
    "The notebook is made out of cells. This is a Markdown cell\n",
    "\n",
    "To execute a cell type Shift-Enter"
   ]
  },
  {
   "cell_type": "markdown",
   "metadata": {},
   "source": [
    "__TIP:__ To quickly create a new cell below an existing one, type Ctrl-m then b.\n",
    "Other shortcuts for making, deleting, and moving cells are in the menubar on the left of the\n",
    "screen. To hide the menubar, click on the vertical gray divider separating it from this\n",
    "main page."
   ]
  },
  {
   "cell_type": "markdown",
   "metadata": {},
   "source": [
    "Simply type text "
   ]
  },
  {
   "cell_type": "markdown",
   "metadata": {},
   "source": [
    "Markdown can contain mathematical expressions written in latex\n",
    "\n",
    "\n",
    "$a=\\frac{1}{e^{-bD}}$"
   ]
  },
  {
   "cell_type": "code",
   "execution_count": 1,
   "metadata": {
    "collapsed": false
   },
   "outputs": [],
   "source": [
    "# This is a code cell. \n",
    "# Comments are preceded by a hash sign ('#'), and are not interpreted at all.\n",
    "# You can also write code in this cell: \n",
    "# Type shift-enter to exectue the code"
   ]
  },
  {
   "cell_type": "markdown",
   "metadata": {},
   "source": [
    "## 1. Individual things\n",
    "\n",
    "The most basic component of any programming language are \"things\", also called variables or\n",
    "(in special cases) objects.\n",
    "\n",
    "The most common basic \"things\" in Python are integers, floats, strings, booleans, and\n",
    "some special objects of various types. We'll meet many of these as we go through the lesson."
   ]
  },
  {
   "cell_type": "code",
   "execution_count": 2,
   "metadata": {
    "collapsed": false
   },
   "outputs": [
    {
     "data": {
      "text/plain": [
       "2"
      ]
     },
     "execution_count": 2,
     "metadata": {},
     "output_type": "execute_result"
    }
   ],
   "source": [
    "# A thing\n",
    "2"
   ]
  },
  {
   "cell_type": "code",
   "execution_count": 3,
   "metadata": {
    "collapsed": false
   },
   "outputs": [
    {
     "name": "stdout",
     "output_type": "stream",
     "text": [
      "2\n",
      "hello\n"
     ]
    }
   ],
   "source": [
    "# Use print to show multiple things in the same cell\n",
    "# Note that you can use single or double quotes for strings\n",
    "print(2)\n",
    "print('hello')"
   ]
  },
  {
   "cell_type": "code",
   "execution_count": 4,
   "metadata": {
    "collapsed": false
   },
   "outputs": [
    {
     "name": "stdout",
     "output_type": "stream",
     "text": [
      "2 hello True\n"
     ]
    }
   ],
   "source": [
    "# Things can be stored as variables\n",
    "a = 2\n",
    "b = 'hello'\n",
    "c = True  # This is case sensitive\n",
    "print (a, b, c)"
   ]
  },
  {
   "cell_type": "code",
   "execution_count": 5,
   "metadata": {
    "collapsed": false
   },
   "outputs": [
    {
     "name": "stdout",
     "output_type": "stream",
     "text": [
      "<class 'int'>\n",
      "<class 'str'>\n",
      "<class 'bool'>\n"
     ]
    }
   ],
   "source": [
    "# The type function tells us the type of thing we have\n",
    "print(type(a))\n",
    "print(type(b))\n",
    "print(type(c))"
   ]
  },
  {
   "cell_type": "markdown",
   "metadata": {},
   "source": [
    "## 2. Commands that operate on things\n",
    "\n",
    "Just storing data in variables isn't much use to us. Right away, we'd like to start performing\n",
    "operations and manipulations on data and variables.\n",
    "\n",
    "There are three very common means of performing an operation on a thing."
   ]
  },
  {
   "cell_type": "markdown",
   "metadata": {},
   "source": [
    "### 2.1 Use an operator\n",
    "\n",
    "All of the basic math operators work like you think they should for numbers. They can also\n",
    "do some useful operations on other things, like strings. There are also boolean operators that\n",
    "compare quantities and give back a `bool` variable as a result."
   ]
  },
  {
   "cell_type": "code",
   "execution_count": 6,
   "metadata": {
    "collapsed": false
   },
   "outputs": [
    {
     "name": "stdout",
     "output_type": "stream",
     "text": [
      "5\n",
      "6\n",
      "8\n"
     ]
    }
   ],
   "source": [
    "# Standard math operators work as expected on numbers\n",
    "a = 2\n",
    "b = 3\n",
    "print(a + b)\n",
    "print(a * b)\n",
    "print(a ** b)"
   ]
  },
  {
   "cell_type": "code",
   "execution_count": 7,
   "metadata": {
    "collapsed": false
   },
   "outputs": [
    {
     "name": "stdout",
     "output_type": "stream",
     "text": [
      "0.6666666666666666\n",
      "0.6666666666666666\n",
      "8\n",
      "1\n"
     ]
    }
   ],
   "source": [
    "# Division used to be an issue in Python2, but no longer an issue in Python3\n",
    "# Also watch out for exponentiation - you want **, not ^\n",
    "print(2 / 3)\n",
    "print(2 / 3.)\n",
    "\n",
    "print(2 ** 3)\n",
    "print(2 ^ 3)"
   ]
  },
  {
   "cell_type": "code",
   "execution_count": 8,
   "metadata": {
    "collapsed": false
   },
   "outputs": [
    {
     "name": "stdout",
     "output_type": "stream",
     "text": [
      "helloworld\n",
      "hellohellohello\n"
     ]
    }
   ],
   "source": [
    "# There are also operators for strings\n",
    "print('hello' + 'world')\n",
    "print('hello' * 3)\n",
    "#print('hello' / 3)"
   ]
  },
  {
   "cell_type": "code",
   "execution_count": null,
   "metadata": {
    "collapsed": false
   },
   "outputs": [],
   "source": []
  },
  {
   "cell_type": "code",
   "execution_count": 9,
   "metadata": {
    "collapsed": false
   },
   "outputs": [
    {
     "name": "stdout",
     "output_type": "stream",
     "text": [
      "False\n",
      "True\n",
      "True\n",
      "False\n"
     ]
    }
   ],
   "source": [
    "# Boolean operators compare two things\n",
    "a = (1 > 3)\n",
    "b = (3 == 3)\n",
    "print(a)\n",
    "print(b)\n",
    "print(a or b)\n",
    "print(a and b)"
   ]
  },
  {
   "cell_type": "markdown",
   "metadata": {},
   "source": [
    "### 2.2 Use a function\n",
    "\n",
    "These will be very familiar to anyone who has programmed in any language, and work like you\n",
    "would expect."
   ]
  },
  {
   "cell_type": "code",
   "execution_count": 10,
   "metadata": {
    "collapsed": false
   },
   "outputs": [
    {
     "name": "stdout",
     "output_type": "stream",
     "text": [
      "<class 'int'>\n",
      "5\n",
      "3\n"
     ]
    }
   ],
   "source": [
    "# There are thousands of functions that operate on things\n",
    "print(type(3))\n",
    "print(len('hello'))\n",
    "print(round(3.3))\n"
   ]
  },
  {
   "cell_type": "markdown",
   "metadata": {},
   "source": [
    "__TIP:__ To find out what a function does, you can type it's name and then a question mark to\n",
    "get a pop up help window. Or, to see what arguments it takes, you can type its name, an open\n",
    "parenthesis, and hit tab."
   ]
  },
  {
   "cell_type": "code",
   "execution_count": 11,
   "metadata": {
    "collapsed": false
   },
   "outputs": [],
   "source": [
    "type?"
   ]
  },
  {
   "cell_type": "code",
   "execution_count": null,
   "metadata": {
    "collapsed": false
   },
   "outputs": [],
   "source": []
  },
  {
   "cell_type": "code",
   "execution_count": null,
   "metadata": {
    "collapsed": false
   },
   "outputs": [],
   "source": []
  },
  {
   "cell_type": "code",
   "execution_count": 12,
   "metadata": {
    "collapsed": false
   },
   "outputs": [
    {
     "data": {
      "text/plain": [
       "3.14"
      ]
     },
     "execution_count": 12,
     "metadata": {},
     "output_type": "execute_result"
    }
   ],
   "source": [
    "#round?\n",
    "round(3.14159, 2)"
   ]
  },
  {
   "cell_type": "markdown",
   "metadata": {},
   "source": [
    "__TIP:__ Many useful functions are not in the Python built in library, but are in external\n",
    "scientific packages. These need to be imported into your Python notebook (or program) before\n",
    "they can be used. Probably the most important of these are numpy and matplotlib."
   ]
  },
  {
   "cell_type": "code",
   "execution_count": 13,
   "metadata": {
    "collapsed": true
   },
   "outputs": [],
   "source": [
    "# Many useful functions are in external packages\n",
    "# Let's meet numpy\n",
    "import numpy as np"
   ]
  },
  {
   "cell_type": "code",
   "execution_count": 14,
   "metadata": {
    "collapsed": false
   },
   "outputs": [
    {
     "data": {
      "text/plain": [
       "<module 'numpy' from '/Users/arokem/anaconda/lib/python3.4/site-packages/numpy/__init__.py'>"
      ]
     },
     "execution_count": 14,
     "metadata": {},
     "output_type": "execute_result"
    }
   ],
   "source": [
    "np"
   ]
  },
  {
   "cell_type": "code",
   "execution_count": 15,
   "metadata": {
    "collapsed": true
   },
   "outputs": [],
   "source": [
    "# To see what's in a package, type the name, a period, then hit tab\n",
    "#np?\n"
   ]
  },
  {
   "cell_type": "code",
   "execution_count": 16,
   "metadata": {
    "collapsed": false
   },
   "outputs": [
    {
     "name": "stdout",
     "output_type": "stream",
     "text": [
      "2.0\n",
      "3.141592653589793\n",
      "1.22464679915e-16\n"
     ]
    }
   ],
   "source": [
    "# Some examples of numpy functions and \"things\"\n",
    "print(np.sqrt(4))\n",
    "print(np.pi)  # Not a function, just a variable\n",
    "print(np.sin(np.pi))"
   ]
  },
  {
   "cell_type": "markdown",
   "metadata": {},
   "source": [
    "### 2.3 Use a method\n",
    "\n",
    "Before we get any farther into the Python language, we have to say a word about \"objects\". We\n",
    "will not be teaching object oriented programming in this tutorial, but you will encounter objects\n",
    "throughout Python (in fact, even seemingly simple things like ints and strings are actually\n",
    "objects in Python).\n",
    "\n",
    "In the simplest terms, you can think of an object as a small bundled \"thing\" that contains within\n",
    "itself both data and functions that operate on that data. For example, strings in Python are\n",
    "objects that contain a set of characters and also various functions that operate on the set of\n",
    "characters. When bundled in an object, these functions are called \"methods\".\n",
    "\n",
    "Instead of the \"normal\" `function(arguments)` syntax, methods are called using the\n",
    "syntax `variable.method(arguments)`."
   ]
  },
  {
   "cell_type": "code",
   "execution_count": 17,
   "metadata": {
    "collapsed": false
   },
   "outputs": [
    {
     "name": "stdout",
     "output_type": "stream",
     "text": [
      "<class 'str'>\n"
     ]
    }
   ],
   "source": [
    "# A string is actually an object\n",
    "a = 'hello, world'\n",
    "print(type(a))"
   ]
  },
  {
   "cell_type": "code",
   "execution_count": null,
   "metadata": {
    "collapsed": false
   },
   "outputs": [],
   "source": []
  },
  {
   "cell_type": "code",
   "execution_count": 18,
   "metadata": {
    "collapsed": false
   },
   "outputs": [
    {
     "name": "stdout",
     "output_type": "stream",
     "text": [
      "Hello, world\n",
      "heXXo, worXd\n"
     ]
    }
   ],
   "source": [
    "# Objects have bundled methods\n",
    "#a.\n",
    "print(a.capitalize())\n",
    "print(a.replace('l', 'X'))"
   ]
  },
  {
   "cell_type": "markdown",
   "metadata": {},
   "source": [
    "### EXERCISE 1 - Introducing logistic growth\n",
    "\n",
    "Throughout this lesson, we will successively build towards a program that will calculate the\n",
    "logistic growth of a population of bacteria in a petri dish (or bears in the woods, if you\n",
    "prefer). \n",
    "\n",
    "As a reminder, a commonly used discrete time equation for logistic population growth is\n",
    "\n",
    "$n[t+1] = n[t] + r \\cdot n[t] \\cdot (1 - \\frac{n[t]}{K})$\n",
    "\n",
    "where n(t) is the population size at time t, r is the net per capita growth rate, and K is the\n",
    "carrying capacity of the dish/woods.\n",
    "\n",
    "To get started, write Python expressions that do the following:\n",
    "\n",
    "1. Create variables for `r`, `K`, and `n0`, setting these equal to 0.6, 100, and 10, respectively.\n",
    "1. Create the variable `n1` and calculate it's value. Do the same for `n2`.\n",
    "1. Check the type of `n2` - what is it?\n",
    "1. Modify your calculations for `n1` and `n2` so that these values are rounded to the nearest\n",
    "integer.\n",
    "\n",
    "__Bonus__\n",
    "\n",
    "1. Test whether `n2` is larger than 20, and print out \"n2 more than 20: \"\n",
    "followed by the answer (either True or False).\n",
    "1. Figure out how to test whether `n2` is an integer (a mathematical integer, not necessarily\n",
    "whether it is an integer type) (HINT: look at the methods of `n2` by typing `n2.` and pressing\n",
    "tab.)"
   ]
  },
  {
   "cell_type": "code",
   "execution_count": 19,
   "metadata": {
    "collapsed": false
   },
   "outputs": [
    {
     "name": "stdout",
     "output_type": "stream",
     "text": [
      "10 15.4 23.21704\n",
      "<class 'float'>\n",
      "n2 more than 20:  True\n",
      "n2 is an integer:  False\n"
     ]
    }
   ],
   "source": [
    "r = 0.6\n",
    "K = 100\n",
    "n0 = 10\n",
    "\n",
    "n1 = (n0 + r*n0*(1 - n0/K))\n",
    "n2 = (n1 + r*n1*(1 - n1/K))\n",
    "\n",
    "print(n0, n1, n2)\n",
    "print(type(n2))\n",
    "\n",
    "print('n2 more than 20: ', n2 > 20)\n",
    "print('n2 is an integer: ', n2.is_integer())"
   ]
  },
  {
   "cell_type": "markdown",
   "metadata": {},
   "source": [
    "## 3. Collections of things\n",
    "\n",
    "Once the number of variables that you are interested in starts getting large, working with them\n",
    "all individually starts to get unwieldy. To help stay organized, we can use collections of things.\n",
    "\n",
    "Probably 99% of your work in scientific Python will use one of four types of collections:\n",
    "lists, tuples, dictionaries, and numpy arrays. We'll look quickly at each of these and what\n",
    "they can do for you."
   ]
  },
  {
   "cell_type": "markdown",
   "metadata": {},
   "source": [
    "### 3.1 Lists\n",
    "\n",
    "Lists are probably the handiest and most flexible type of container. Lists are declared with\n",
    "square brackets []. Individual elements of a list can be selected using the syntax `a[ind]`."
   ]
  },
  {
   "cell_type": "code",
   "execution_count": 20,
   "metadata": {
    "collapsed": false
   },
   "outputs": [
    {
     "name": "stdout",
     "output_type": "stream",
     "text": [
      "['hi', 'hello', 'yo'] <class 'list'>\n"
     ]
    }
   ],
   "source": [
    "# Lists are created with square bracket syntax\n",
    "a = ['hi', 'hello', 'yo']\n",
    "print(a, type(a))"
   ]
  },
  {
   "cell_type": "code",
   "execution_count": null,
   "metadata": {
    "collapsed": false
   },
   "outputs": [],
   "source": []
  },
  {
   "cell_type": "code",
   "execution_count": 21,
   "metadata": {
    "collapsed": false
   },
   "outputs": [
    {
     "name": "stdout",
     "output_type": "stream",
     "text": [
      "hi\n",
      "hello\n"
     ]
    }
   ],
   "source": [
    "# Lists (and all collections) are also indexed with square brackets\n",
    "# NOTE: The first index is zero, not one\n",
    "print(a[0])\n",
    "print(a[1])"
   ]
  },
  {
   "cell_type": "code",
   "execution_count": 22,
   "metadata": {
    "collapsed": false
   },
   "outputs": [
    {
     "name": "stdout",
     "output_type": "stream",
     "text": [
      "['hi', 'hello']\n"
     ]
    }
   ],
   "source": [
    "# Lists can be sliced by putting a colon between indexes\n",
    "# NOTE: Indexing is 0-based, and the end value is not inclusive\n",
    "print(a[0:2])\n"
   ]
  },
  {
   "cell_type": "code",
   "execution_count": 23,
   "metadata": {
    "collapsed": false
   },
   "outputs": [
    {
     "name": "stdout",
     "output_type": "stream",
     "text": [
      "['hi', 'hello']\n",
      "['yo']\n",
      "['hi', 'hello']\n"
     ]
    }
   ],
   "source": [
    "# You can leave off the start or end if desired\n",
    "print(a[:2])\n",
    "print(a[2:])\n",
    "print(a[:-1])"
   ]
  },
  {
   "cell_type": "code",
   "execution_count": 24,
   "metadata": {
    "collapsed": true
   },
   "outputs": [],
   "source": [
    "# Lists are objects, like everything else, and have methods such as append"
   ]
  },
  {
   "cell_type": "code",
   "execution_count": 25,
   "metadata": {
    "collapsed": false
   },
   "outputs": [
    {
     "name": "stdout",
     "output_type": "stream",
     "text": [
      "['hi', 'hello', 'yo', 'hiya']\n",
      "['hi', 'hello', 'yo', 'hiya', [1, 2]]\n",
      "[1, 2]\n",
      "['hi', 'hello', 'yo', 'hiya']\n"
     ]
    }
   ],
   "source": [
    "a.append('hiya')\n",
    "print(a)\n",
    "\n",
    "a.append([1,2])\n",
    "print(a)\n",
    "\n",
    "print(a.pop())\n",
    "print(a)"
   ]
  },
  {
   "cell_type": "code",
   "execution_count": null,
   "metadata": {
    "collapsed": false
   },
   "outputs": [],
   "source": []
  },
  {
   "cell_type": "markdown",
   "metadata": {},
   "source": [
    "__TIP:__ A 'gotcha' for some new Python users is that many collections, including lists,\n",
    "actually store pointers to data, not the data itself. This makes the language much more efficient,\n",
    "but can lead to some very hard to trace bugs..."
   ]
  },
  {
   "cell_type": "code",
   "execution_count": 26,
   "metadata": {
    "collapsed": false
   },
   "outputs": [
    {
     "name": "stdout",
     "output_type": "stream",
     "text": [
      "['hi', 'hello', 'yo', 'hiya'] ['hi', 'hello', 'yo', 'hiya']\n",
      "['bye', 'hello', 'yo', 'hiya'] ['bye', 'hello', 'yo', 'hiya']\n",
      "['hi', 'hello', 'yo', 'hiya'] ['hi', 'hello', 'yo', 'hiya']\n",
      "['hi', 'hello', 'yo', 'hiya'] ['seeya', 'hello', 'yo', 'hiya']\n"
     ]
    }
   ],
   "source": [
    "# Assigning b = a does not make a copy of a, rather b and a now point to the same data\n",
    "# Assigning b = a does not make a copy of a, rather b and a now point to the same data\n",
    "b = a\n",
    "print(a, b)\n",
    "b[0] = 'bye'\n",
    "print(a, b)\n",
    "b[0] = 'hi'\n",
    "\n",
    "# To make a copy, use either list(a) or a[:]\n",
    "b = list(a)\n",
    "print(a, b)\n",
    "b[0] = 'seeya'\n",
    "print(a, b)"
   ]
  },
  {
   "cell_type": "markdown",
   "metadata": {},
   "source": [
    "### EXERCISE 2 - Storing population size in a list\n",
    "\n",
    "Copy your code from Exercise 1 into the box below, and do the following:\n",
    "\n",
    "1. Modify your code so that the values of `n0`, `n1`, `n2`, and `n3` are stored in a list and not as\n",
    "separate individual variables. HINT: You can start off by declaring an empty list using the syntax\n",
    "`n = []`, and then append each new calculated value of `nt` to the list.\n",
    "1. Get the first and last values in the list, calculate their ratio, and print out \"Grew by a factor of \"\n",
    "followed by the result.\n",
    "\n",
    "__Bonus__\n",
    "\n",
    "1. Extract the last value in two different ways: first, by using the index for\n",
    "the last item in the list, and second, presuming that you do not know how long the list is.\n",
    "1. Change the values of `r` and `K` to make sure that your cell still runs correctly and gives\n",
    "reasonable answers."
   ]
  },
  {
   "cell_type": "code",
   "execution_count": 27,
   "metadata": {
    "collapsed": false
   },
   "outputs": [
    {
     "name": "stdout",
     "output_type": "stream",
     "text": [
      "[10, 15, 23, 34]\n",
      "Grew by a factor of  3.4\n"
     ]
    }
   ],
   "source": [
    "######################################\n",
    "# This code deletes our old variables\n",
    "try: del n0, n1, n2, r, K\n",
    "except: pass\n",
    "######################################\n",
    "\n",
    "r = 0.6\n",
    "K = 100\n",
    "n = []\n",
    "n.append(10)  # Append n0 in the first location\n",
    "\n",
    "n.append(round(n[0] + r*n[0]*(1 - n[0]/K)))  # Append n1\n",
    "n.append(round(n[1] + r*n[1]*(1 - n[1]/K)))  # Append n2\n",
    "n.append(round(n[2] + r*n[2]*(1 - n[2]/K)))  # Append n3\n",
    "\n",
    "print(n)\n",
    "\n",
    "print(\"Grew by a factor of \", n[3]/n[0]) # or n[-1]/n[0]"
   ]
  },
  {
   "cell_type": "markdown",
   "metadata": {},
   "source": [
    "### 3.2 Tuples\n",
    "\n",
    "We won't say a whole lot about tuples except to mention that they basically work just like lists, with\n",
    "two major exceptions:\n",
    "\n",
    "1. You declare tuples using () instead of []\n",
    "1. Once you make a tuple, you can't change what's in it\n",
    "\n",
    "You'll see tuples come up throughout the Python language, and over time you'll develop a feel for when\n",
    "to use them. In general, they're often used instead of lists to group items when the position in the\n",
    "collection is critical to understanding the item's meaning, such as (x,y), and when you want to make\n",
    "sure that you don't accidentally modify any of the items later."
   ]
  },
  {
   "cell_type": "code",
   "execution_count": 28,
   "metadata": {
    "collapsed": false
   },
   "outputs": [
    {
     "name": "stdout",
     "output_type": "stream",
     "text": [
      "2\n"
     ]
    }
   ],
   "source": [
    "a = (1,2)\n",
    "print(a[-1])"
   ]
  },
  {
   "cell_type": "markdown",
   "metadata": {},
   "source": [
    "### 3.3 Dictionaries\n",
    "\n",
    "Dictionaries are the collection to use when you want to store and retrieve things by their names\n",
    "(or some other kind of key) instead of by their position in the collection. A good example is a set\n",
    "of model parameters, each of which has a name and a value. Dictionaries are declared using {}."
   ]
  },
  {
   "cell_type": "code",
   "execution_count": 29,
   "metadata": {
    "collapsed": false
   },
   "outputs": [
    {
     "name": "stdout",
     "output_type": "stream",
     "text": [
      "{'r': 0.5, 'n0': 10}\n",
      "0.5\n"
     ]
    }
   ],
   "source": [
    "# Make a dictionary of model parameters\n",
    "params = {'n0': 10, 'r': 0.5}\n",
    "print(params)\n",
    "print(params['r'])"
   ]
  },
  {
   "cell_type": "code",
   "execution_count": 30,
   "metadata": {
    "collapsed": false
   },
   "outputs": [
    {
     "name": "stdout",
     "output_type": "stream",
     "text": [
      "{'K': 200, 'r': 0.5, 'n0': 10}\n"
     ]
    }
   ],
   "source": [
    "params['K'] = 200\n",
    "print(params)"
   ]
  },
  {
   "cell_type": "markdown",
   "metadata": {},
   "source": [
    "### 3.4 Numpy arrays (ndarrays)\n",
    "\n",
    "Even though numpy arrays (often written as ndarrays, for n-dimensional arrays) are not part of the\n",
    "core Python libraries, they are so useful in scientific Python that we'll include them here in the \n",
    "core lesson. Numpy arrays are collections of things, all of which must be the same type, that work\n",
    "similarly to lists (as we've described them so far). The most important are:\n",
    "\n",
    "1. You can easily perform elementwise operations (and matrix algebra) on arrays\n",
    "1. Arrays can be n-dimensional\n",
    "1. Arrays must be pre-allocated (ie, there is no equivalent to append)\n",
    "\n",
    "Arrays can be created from existing collections such as lists, or instantiated \"from scratch\" in a \n",
    "few useful ways.\n",
    "\n",
    "When getting started with scientific Python, you will probably want to try to use ndarrays whenever\n",
    "possible, saving the other types of collections for those cases when you have a specific reason to use\n",
    "them."
   ]
  },
  {
   "cell_type": "code",
   "execution_count": 31,
   "metadata": {
    "collapsed": false
   },
   "outputs": [],
   "source": [
    "import numpy as np"
   ]
  },
  {
   "cell_type": "code",
   "execution_count": 32,
   "metadata": {
    "collapsed": false
   },
   "outputs": [
    {
     "name": "stdout",
     "output_type": "stream",
     "text": [
      "[2 3 4] <class 'numpy.ndarray'>\n",
      "[5 6 7] <class 'numpy.ndarray'> int64\n"
     ]
    }
   ],
   "source": [
    "# Make an array from a list\n",
    "# Make an array from a list\n",
    "alist = [2, 3, 4]\n",
    "blist = [5, 6, 7]\n",
    "a = np.array(alist)\n",
    "b = np.array(blist)\n",
    "print(a, type(a))\n",
    "print(b, type(b), b.dtype)"
   ]
  },
  {
   "cell_type": "code",
   "execution_count": 33,
   "metadata": {
    "collapsed": false
   },
   "outputs": [
    {
     "name": "stdout",
     "output_type": "stream",
     "text": [
      "[ 4  9 16]\n",
      "[ 0.90929743  0.14112001 -0.7568025 ]\n",
      "[10 18 28]\n",
      "56 56\n"
     ]
    }
   ],
   "source": [
    "# Do arithmetic on arrays\n",
    "# Do arithmetic on arrays\n",
    "print(a**2)\n",
    "print(np.sin(a))\n",
    "print(a * b)\n",
    "print(a.dot(b), np.dot(a, b))"
   ]
  },
  {
   "cell_type": "code",
   "execution_count": 34,
   "metadata": {
    "collapsed": false
   },
   "outputs": [
    {
     "name": "stdout",
     "output_type": "stream",
     "text": [
      "[False  True  True]\n",
      "[False  True False]\n",
      "[False  True  True]\n",
      "<class 'numpy.ndarray'>\n",
      "bool\n"
     ]
    }
   ],
   "source": [
    "# Boolean operators work on arrays too, and they return boolean arrays\n",
    "print(a > 2)\n",
    "print(b == 6)\n",
    "\n",
    "c = a > 2\n",
    "print(c)\n",
    "print(type(c))\n",
    "print(c.dtype)"
   ]
  },
  {
   "cell_type": "code",
   "execution_count": 35,
   "metadata": {
    "collapsed": false
   },
   "outputs": [
    {
     "name": "stdout",
     "output_type": "stream",
     "text": [
      "[2 3]\n",
      "\n",
      "\n",
      "[[ 0.68939822  0.62240095  0.73160151]\n",
      " [ 0.94740364  0.01577711  0.38062069]\n",
      " [ 0.09054439  0.55849549  0.561314  ]]\n",
      "\n",
      "\n",
      "[[ 0.94740364  0.01577711]\n",
      " [ 0.09054439  0.55849549]]\n",
      "\n",
      "\n",
      "[[ 2.          3.          4.        ]\n",
      " [ 0.94740364  0.01577711  0.38062069]\n",
      " [ 0.09054439  0.55849549  0.561314  ]]\n"
     ]
    }
   ],
   "source": [
    "# Indexing arrays\n",
    "# Indexing arrays\n",
    "print(a[0:2])\n",
    "\n",
    "c = np.random.rand(3,3)\n",
    "print('\\n')\n",
    "print(c)\n",
    "print('\\n')\n",
    "print(c[1:3,0:2])\n",
    "\n",
    "c[0,:] = a\n",
    "print('\\n')\n",
    "print(c)"
   ]
  },
  {
   "cell_type": "code",
   "execution_count": 36,
   "metadata": {
    "collapsed": false
   },
   "outputs": [
    {
     "name": "stdout",
     "output_type": "stream",
     "text": [
      "[2 3 4]\n",
      "[5 6 7]\n",
      "[False  True  True]\n",
      "[3 4]\n",
      "[6 7]\n",
      "[ 5 77  7]\n"
     ]
    }
   ],
   "source": [
    "# Arrays can also be indexed with other boolean arrays\n",
    "print(a)\n",
    "print(b)\n",
    "print(a > 2)\n",
    "print(a[a > 2])\n",
    "print(b[a > 2])\n",
    "\n",
    "b[a == 3] = 77\n",
    "print(b)"
   ]
  },
  {
   "cell_type": "code",
   "execution_count": 37,
   "metadata": {
    "collapsed": false
   },
   "outputs": [
    {
     "name": "stdout",
     "output_type": "stream",
     "text": [
      "(3, 3)\n",
      "0.00387572706708\n"
     ]
    }
   ],
   "source": [
    "# ndarrays have attributes in addition to methods\n",
    "print(c.shape)\n",
    "print(c.prod())"
   ]
  },
  {
   "cell_type": "code",
   "execution_count": 38,
   "metadata": {
    "collapsed": false
   },
   "outputs": [
    {
     "name": "stdout",
     "output_type": "stream",
     "text": [
      "[ 0.  0.  0.  0.  0.] \n",
      "\n",
      "[ 1.  1.  1.  1.  1.] \n",
      "\n",
      "[[ 1.  0.  0.  0.  0.]\n",
      " [ 0.  1.  0.  0.  0.]\n",
      " [ 0.  0.  1.  0.  0.]\n",
      " [ 0.  0.  0.  1.  0.]\n",
      " [ 0.  0.  0.  0.  1.]] \n",
      "\n",
      "[[ 1.  0.  0.  0.  0.]\n",
      " [ 0.  1.  0.  0.  0.]\n",
      " [ 0.  0.  1.  0.  0.]\n",
      " [ 0.  0.  0.  1.  0.]\n",
      " [ 0.  0.  0.  0.  1.]] \n",
      "\n"
     ]
    }
   ],
   "source": [
    "# There are handy ways to make arrays full of ones and zeros\n",
    "print(np.zeros(5), '\\n')\n",
    "print(np.ones(5), '\\n')\n",
    "print(np.identity(5), '\\n')\n",
    "print(np.eye(5), '\\n')\n"
   ]
  },
  {
   "cell_type": "code",
   "execution_count": 39,
   "metadata": {
    "collapsed": false
   },
   "outputs": [
    {
     "name": "stdout",
     "output_type": "stream",
     "text": [
      "[0 1 2 3 4 5 6 7 8 9]\n",
      "[0 2 4 6 8]\n",
      "[  5.        5.15625   5.3125    5.46875   5.625     5.78125   5.9375\n",
      "   6.09375   6.25      6.40625   6.5625    6.71875   6.875     7.03125\n",
      "   7.1875    7.34375   7.5       7.65625   7.8125    7.96875   8.125\n",
      "   8.28125   8.4375    8.59375   8.75      8.90625   9.0625    9.21875\n",
      "   9.375     9.53125   9.6875    9.84375  10.     ]\n"
     ]
    }
   ],
   "source": [
    "# You can also easily make arrays of number sequences\n",
    "print(np.arange(10))\n",
    "print(np.arange(0, 10, 2))\n",
    "print(np.linspace(5, 10, 33))"
   ]
  },
  {
   "cell_type": "markdown",
   "metadata": {},
   "source": [
    "## 4. Repeating yourself\n",
    "\n",
    "So far, everything that we've done could, in principle, be done by hand calculation. In this section\n",
    "and the next, we really start to take advantage of the power of programming languages to do things\n",
    "for us automatically.\n",
    "\n",
    "We start here with ways to repeat yourself. The two most common ways of doing this are known as for\n",
    "loops and while loops. For loops in Python are useful when you want to cycle over all of the items\n",
    "in a collection (such as all of the elements of an array), and while loops are useful when you want to\n",
    "cycle for an indefinite amount of time until some condition is met.\n",
    "\n",
    "The basic examples below will work for looping over lists, tuples, and arrays. Looping over dictionaries\n",
    "is a bit different, since there is a key and a value for each item in a dictionary. Have a look at the\n",
    "Python docs for more information."
   ]
  },
  {
   "cell_type": "code",
   "execution_count": 40,
   "metadata": {
    "collapsed": false
   },
   "outputs": [
    {
     "name": "stdout",
     "output_type": "stream",
     "text": [
      "hi!\n",
      "hello!\n",
      "bye!\n"
     ]
    }
   ],
   "source": [
    "# A basic for loop - don't forget the white space!\n",
    "wordlist = ['hi', 'hello', 'bye']\n",
    "for word in wordlist:\n",
    "    print(word + '!')"
   ]
  },
  {
   "cell_type": "code",
   "execution_count": 41,
   "metadata": {
    "collapsed": false
   },
   "outputs": [
    {
     "name": "stdout",
     "output_type": "stream",
     "text": [
      "Sum is 85\n"
     ]
    }
   ],
   "source": [
    "# Sum all of the values in a collection using a for loop\n",
    "numlist = [1, 4, 77, 3]\n",
    "\n",
    "total = 0\n",
    "for num in numlist:\n",
    "    total = total + num\n",
    "    \n",
    "print(\"Sum is\", total)"
   ]
  },
  {
   "cell_type": "code",
   "execution_count": 42,
   "metadata": {
    "collapsed": false
   },
   "outputs": [
    {
     "name": "stdout",
     "output_type": "stream",
     "text": [
      "['hi', 'hello', 'bye']\n",
      "[0 1 2]\n",
      "0 hi\n",
      "1 hello\n",
      "2 bye\n",
      "0 hi\n",
      "1 hello\n",
      "2 bye\n"
     ]
    }
   ],
   "source": [
    "# Often we want to loop over the indexes of a collection, not just the items\n",
    "print(wordlist)\n",
    "\n",
    "wordrange = np.arange(len(wordlist))\n",
    "print(wordrange)\n",
    "\n",
    "for i in wordrange:\n",
    "    print(i, wordlist[i])\n",
    "    \n",
    "# This is so useful, that there's a pattern for it: \n",
    "for i, word in enumerate(wordlist):\n",
    "    print(i, word)"
   ]
  },
  {
   "cell_type": "code",
   "execution_count": 43,
   "metadata": {
    "collapsed": false
   },
   "outputs": [
    {
     "name": "stdout",
     "output_type": "stream",
     "text": [
      "1 2\n",
      "2 4\n",
      "3 8\n",
      "4 16\n",
      "5 32\n",
      "6 64\n",
      "7 128\n",
      "Reached a product of 128 at step number 7\n"
     ]
    }
   ],
   "source": [
    "# While loops are useful when you don't know how many steps you will need,\n",
    "# and want to stop once a certain condition is met.\n",
    "step = 0\n",
    "prod = 1\n",
    "while prod < 100:\n",
    "    step = step + 1\n",
    "    prod = prod * 2\n",
    "    print(step, prod)\n",
    "    \n",
    "print('Reached a product of', prod, 'at step number', step)"
   ]
  },
  {
   "cell_type": "markdown",
   "metadata": {},
   "source": [
    "__TIP:__ Once we start really generating useful and large collections of data, it becomes unwieldy to\n",
    "inspect our results manually. The code below shows how to make a very simple plot of an array.\n",
    "We'll do much more plotting later on, this is just to get started."
   ]
  },
  {
   "cell_type": "code",
   "execution_count": 44,
   "metadata": {
    "collapsed": false
   },
   "outputs": [
    {
     "data": {
      "text/plain": [
       "[<matplotlib.lines.Line2D at 0x10e18fc88>]"
      ]
     },
     "execution_count": 44,
     "metadata": {},
     "output_type": "execute_result"
    },
    {
     "data": {
      "image/png": "[encoded data removed]",
      "text/plain": [
       "<matplotlib.figure.Figure at 0x10b4dcd68>"
      ]
     },
     "metadata": {},
     "output_type": "display_data"
    }
   ],
   "source": [
    "# import matplotlib.pyplot, a useful plotting library. \n",
    "import matplotlib.pyplot as plt\n",
    "# This is an ipython magic: \n",
    "%matplotlib inline\n",
    "# Make some x and y data and plot it\n",
    "y = np.arange(100)**2\n",
    "plt.plot(y)"
   ]
  },
  {
   "cell_type": "markdown",
   "metadata": {},
   "source": [
    "### EXERCISE 4 - Using loops to repeat calculations\n",
    "\n",
    "FINALLY, let's get smart about our calculations of `nt`. Copy your code from Exercise 3 into the box\n",
    "below, and do the following:\n",
    "\n",
    "1. Write a for loop to fill in the values of `nt` for 100 time steps. HINT: You will need to \n",
    "create an array of the step numbers using a command like `step = np.arange(1, 100)`. (Why does\n",
    "this array start at 1 and not at 0?). Then, loop over the values of the step array,\n",
    "and use each step value to index the array `n`.\n",
    "1. Plot the array `n`.\n",
    "1. Play around with the values of `r` and `K` and see how it changes the plot. What happens if you set\n",
    "`r` to 1.9 or 3?\n",
    "\n",
    "__Bonus__\n",
    "\n",
    "1. Modify your code to use a while loop that will stop your calculation once the population size is\n",
    "greater than 90. HINT: Start a step counter `i` at 1, and check that the value in `n[i-1]` is less than 90\n",
    "each time around the loop. Increment the step counter within the loop so that you have a record\n",
    "of what step the calculation stopped at."
   ]
  },
  {
   "cell_type": "code",
   "execution_count": 45,
   "metadata": {
    "collapsed": false
   },
   "outputs": [
    {
     "data": {
      "text/plain": [
       "[<matplotlib.lines.Line2D at 0x10e6477b8>]"
      ]
     },
     "execution_count": 45,
     "metadata": {},
     "output_type": "execute_result"
    },
    {
     "data": {
      "image/png": "[encoded data removed]",
      "text/plain": [
       "<matplotlib.figure.Figure at 0x10c5b0828>"
      ]
     },
     "metadata": {},
     "output_type": "display_data"
    }
   ],
   "source": [
    "r = 0.6\n",
    "K = 100\n",
    "n = np.zeros(100, dtype=float)\n",
    "n[0] = 10\n",
    "\n",
    "steps = np.arange(1, 100)\n",
    "for i in steps:\n",
    "    n[i] = round(n[i-1] + r*n[i-1]*(1 - n[i-1]/K))\n",
    "    \n",
    "plt.plot(n)"
   ]
  },
  {
   "cell_type": "code",
   "execution_count": 46,
   "metadata": {
    "collapsed": false
   },
   "outputs": [
    {
     "name": "stdout",
     "output_type": "stream",
     "text": [
      "1 15.0\n",
      "2 23.0\n",
      "3 34.0\n",
      "4 47.0\n",
      "5 62.0\n",
      "6 76.0\n",
      "7 87.0\n",
      "8 94.0\n",
      "Ended with a population size of 94.0 at step 8\n",
      "Population sizes to this step were [ 10.  15.  23.  34.  47.  62.  76.  87.  94.]\n"
     ]
    }
   ],
   "source": [
    "r = 0.6\n",
    "K = 100\n",
    "n = np.zeros(100)\n",
    "n[0] = 10\n",
    "\n",
    "i = 1\n",
    "while n[i-1] < 90:\n",
    "    n[i] = round(n[i-1] + r*n[i-1]*(1 - n[i-1]/K))\n",
    "    print(i, n[i])\n",
    "    i = i + 1\n",
    "    \n",
    "print('Ended with a population size of', n[i-1], 'at step', i-1)\n",
    "print('Population sizes to this step were', n[0:i])"
   ]
  },
  {
   "cell_type": "markdown",
   "metadata": {},
   "source": [
    "## 5. Making choices\n",
    "\n",
    "Often we want to check if a condition is True and take one action if it is, and another action if the\n",
    "condition is False. We can achieve this in Python with an if statement.\n",
    "\n",
    "__TIP:__ You can use any expression that returns a boolean value (True or False) in an if statement.\n",
    "Common boolean operators are ==, !=, <, <=, >, >=. You can also use `is` and `is not` if you want to\n",
    "check if two variables are identical in the sense that they are stored in the same location in memory."
   ]
  },
  {
   "cell_type": "code",
   "execution_count": 47,
   "metadata": {
    "collapsed": false
   },
   "outputs": [
    {
     "name": "stdout",
     "output_type": "stream",
     "text": [
      "x is positive\n"
     ]
    }
   ],
   "source": [
    "# A simple if statement\n",
    "# A simple if statement\n",
    "x = 3\n",
    "if x > 0:\n",
    "    print('x is positive')\n",
    "elif x < 0:\n",
    "    print('x is negative')\n",
    "else:\n",
    "    print('x is zero')"
   ]
  },
  {
   "cell_type": "code",
   "execution_count": 48,
   "metadata": {
    "collapsed": true
   },
   "outputs": [],
   "source": [
    "# If statements can rely on boolean variables\n",
    "x = -1\n",
    "test = (x > 0)\n",
    "if test:\n",
    "    print('Test was true')"
   ]
  },
  {
   "cell_type": "code",
   "execution_count": null,
   "metadata": {
    "collapsed": false
   },
   "outputs": [],
   "source": []
  },
  {
   "cell_type": "markdown",
   "metadata": {},
   "source": [
    "### EXERCISE 5 - Making the model stochastic with an if statement\n",
    "\n",
    "Deterministic models are boring, so let's introduce some element of randomness into our logistic\n",
    "growth model. We'll model a simple \"catastrophe\" process, in which a catastrophe happens in 10% of the\n",
    "time steps that reduces the population back down to the size at n0. Copy your code from Exercise 4\n",
    "into the box below, and do the following:\n",
    "\n",
    "1. Inside your for loop, add a variable called `cata`, for catastrophe, that will be True if a catastrophe\n",
    "has occurred, and False if it hasn't. A simple way to do this is to generate a random number using\n",
    "`np.random.rand()`, which will give you a pseudorandom number between 0 and 1. Check whether this number\n",
    "is less than 0.1 - this check will be True 10% of the time.\n",
    "1. Using your boolean variable `cat`, add an if statement to your for loop that checks whether `cat` is\n",
    "true in each time step. If it is true, set the population back to the size at n[0]. Otherwise, perform\n",
    "the usual logistic growth calculation."
   ]
  },
  {
   "cell_type": "code",
   "execution_count": 49,
   "metadata": {
    "collapsed": false
   },
   "outputs": [
    {
     "name": "stdout",
     "output_type": "stream",
     "text": [
      "Population was above 50 in 49 out of 100 steps\n"
     ]
    },
    {
     "data": {
      "image/png": "[encoded data removed]",
      "text/plain": [
       "<matplotlib.figure.Figure at 0x10c5b0128>"
      ]
     },
     "metadata": {},
     "output_type": "display_data"
    }
   ],
   "source": [
    "# Set up initial model parameters\n",
    "r = 0.6\n",
    "K = 100\n",
    "n = np.zeros(100)\n",
    "n[0] = 10\n",
    "\n",
    "# Loop through all time steps\n",
    "steps = np.arange(1, 100)\n",
    "for i in steps:\n",
    "    cat = (np.random.rand() < 0.1)  # Random catastrophe 10% of time\n",
    "    if cat:\n",
    "        n[i] = n[0]\n",
    "    else:\n",
    "        n[i] = round(n[i-1] + r*n[i-1]*(1 - n[i-1]/K))\n",
    "    \n",
    "plt.plot(n)\n",
    "\n",
    "print('Population was above 50 in', np.sum(n > 50), 'out of 100 steps')"
   ]
  },
  {
   "cell_type": "markdown",
   "metadata": {},
   "source": [
    "## 6. Creating chunks with functions and modules\n",
    "\n",
    "One way to write a program is to simply string together commands, like the ones described above, in a long\n",
    "file, and then to run that file to generate your results. This may work, but it can be cognitively difficult\n",
    "to follow the logic of programs written in this style. Also, it does not allow you to reuse your code\n",
    "easily - for example, what if we wanted to run our logistic growth model for several different choices of\n",
    "initial parameters?\n",
    "\n",
    "The most important ways to \"chunk\" code into more manageable pieces is to create functions and then\n",
    "to gather these functions into modules, and eventually packages. Below we will discuss how to create\n",
    "functions and modules. A third common type of \"chunk\" in Python is classes, but we will not be covering\n",
    "object-oriented programming in this workshop."
   ]
  },
  {
   "cell_type": "code",
   "execution_count": 50,
   "metadata": {
    "collapsed": false
   },
   "outputs": [
    {
     "name": "stdout",
     "output_type": "stream",
     "text": [
      "3.33\n",
      "-0.190567635651\n"
     ]
    }
   ],
   "source": [
    "# We've been using functions all day\n",
    "x = 3.333333\n",
    "print(round(x, 2))\n",
    "print(np.sin(x))"
   ]
  },
  {
   "cell_type": "code",
   "execution_count": 51,
   "metadata": {
    "collapsed": true
   },
   "outputs": [],
   "source": [
    "# It's very easy to write your own functions\n",
    "def multiply(x, y):\n",
    "    \"\"\" \n",
    "    Multiply two numbers\n",
    "    \n",
    "    Parameters\n",
    "    ----------\n",
    "    x, y : integer float\n",
    "    \n",
    "    Returns\n",
    "    -------\n",
    "    mul : float/integer\n",
    "        The product of the inputs\n",
    "    \"\"\"\n",
    "    return x*y"
   ]
  },
  {
   "cell_type": "code",
   "execution_count": 52,
   "metadata": {
    "collapsed": false
   },
   "outputs": [
    {
     "name": "stdout",
     "output_type": "stream",
     "text": [
      "<class 'function'>\n",
      "12\n"
     ]
    }
   ],
   "source": [
    "# Once a function is \"run\" and saved in memory, it's available just like any other function\n",
    "print(type(multiply))\n",
    "print(multiply(4, 3))"
   ]
  },
  {
   "cell_type": "code",
   "execution_count": 53,
   "metadata": {
    "collapsed": true
   },
   "outputs": [],
   "source": [
    "# All arguments must be present, or the function will return an error\n"
   ]
  },
  {
   "cell_type": "code",
   "execution_count": 54,
   "metadata": {
    "collapsed": true
   },
   "outputs": [],
   "source": [
    "# Keyword arguments can be used to make some arguments optional by giving them a default value\n",
    "# All mandatory arguments must come first, in order\n",
    "\n",
    "def multiply(x, y=10, to_print=False):\n",
    "    \"\"\" \n",
    "    Multiply two numbers\n",
    "    \n",
    "    Parameters\n",
    "    ----------\n",
    "    x : integer or float\n",
    "    y : integer or float (optional)\n",
    "       Default : 10\n",
    "    \n",
    "    to_print : bool\n",
    "        Whether to print the result\n",
    "    \n",
    "    Returns\n",
    "    -------\n",
    "    mul : float/integer\n",
    "        The product of the inputs\n",
    "    \"\"\"\n",
    "    mul = x * y \n",
    "    if to_print: \n",
    "        print(mul)\n",
    "        \n",
    "    return x*y"
   ]
  },
  {
   "cell_type": "markdown",
   "metadata": {},
   "source": [
    "### EXERCISE 6 - Creating a logistic growth function\n",
    "\n",
    "Finally, let's turn our logistic growth model into a function that we can use over and over again. \n",
    "Copy your code from Exercise 5 into the box below, and do the following:\n",
    "\n",
    "1. Turn your code into a function called `logistic_growth` that takes four arguments: `r`, `K`, `n0`,\n",
    "and `p` (the probability of a catastrophe). Make `p` a keyword argument with a default value of 0.1.\n",
    "Have your function return the `n` array.\n",
    "1. Write a nice docstring describing what your function does.\n",
    "1. In a subsequent cell, call your function with different values of the parameters to make sure it works.\n",
    "Store the returned value of `n` and make a plot from it."
   ]
  },
  {
   "cell_type": "code",
   "execution_count": 55,
   "metadata": {
    "collapsed": false
   },
   "outputs": [],
   "source": [
    "def logistic_growth(r, K, n0, p=0.1):\n",
    "    '''\n",
    "    Function to simulate discrete time stochastic logistic growth\n",
    "\n",
    "    Arguments\n",
    "    ---------\n",
    "    r : float\n",
    "        Reproductive rate of population\n",
    "    K : float\n",
    "        Carrying capacity\n",
    "    n0 : float\n",
    "        Initial population\n",
    "    p : float\n",
    "        Probability of a catastrophe resetting the population to n0\n",
    "\n",
    "    Returns\n",
    "    -------\n",
    "    n : ndarray\n",
    "        Array of 100 time steps of population values\n",
    "    '''\n",
    "    \n",
    "    # Set up population array\n",
    "    n = np.zeros(100, dtype=float)\n",
    "    n[0] = n0\n",
    "\n",
    "    # Loop through all time steps\n",
    "    steps = np.arange(1, 100)\n",
    "    for i in steps:\n",
    "        cat = (np.random.rand() < p)  # Random catastrophe 10% of time\n",
    "        if cat:\n",
    "            n[i] = 10\n",
    "        else:\n",
    "            n[i] = grow_one_step(n[i-1], r, K)\n",
    "    \n",
    "    return n\n",
    "\n",
    "def grow_one_step(nold, r, K):\n",
    "    \"\"\"Calculate new population from old one.\"\"\"\n",
    "    return round(nold + r*nold*(1 - nold/K))"
   ]
  },
  {
   "cell_type": "code",
   "execution_count": 56,
   "metadata": {
    "collapsed": false
   },
   "outputs": [
    {
     "data": {
      "text/plain": [
       "[<matplotlib.lines.Line2D at 0x10e7eca58>]"
      ]
     },
     "execution_count": 56,
     "metadata": {},
     "output_type": "execute_result"
    },
    {
     "data": {
      "image/png": "[encoded data removed]",
      "text/plain": [
       "<matplotlib.figure.Figure at 0x10e1e51d0>"
      ]
     },
     "metadata": {},
     "output_type": "display_data"
    }
   ],
   "source": [
    "a1 = logistic_growth(0.6, 100, 10)\n",
    "a2 = logistic_growth(0.6, 100, 10)\n",
    "a3 = logistic_growth(0.6, 100, 10)\n",
    "\n",
    "plt.plot(a1)\n",
    "plt.plot(a2)\n",
    "plt.plot(a3)"
   ]
  },
  {
   "cell_type": "markdown",
   "metadata": {},
   "source": [
    "### Putting the growth function(s) in a module\n",
    "\n",
    "We can make our functions more easily reusable by placing them into modules that we can import, just\n",
    "like we have been doing with `numpy`. It's pretty simple to do this.\n",
    "\n",
    "1. Copy your function(s) from Exercise 6 into a new text file, in the same directory as this notebook,\n",
    "called `pop.py`.\n",
    "1. In the cell below, type `import pop` to import the module. Type `pop.` and hit tab to see the available\n",
    "functions in the module. Try running the logistic growth function that was imported from the module with\n",
    "a few different parameter values."
   ]
  },
  {
   "cell_type": "code",
   "execution_count": null,
   "metadata": {
    "collapsed": false
   },
   "outputs": [],
   "source": []
  }
 ],
 "metadata": {
  "kernelspec": {
   "display_name": "Python 3",
   "language": "python",
   "name": "python3"
  },
  "language_info": {
   "codemirror_mode": {
    "name": "ipython",
    "version": 3
   },
   "file_extension": ".py",
   "mimetype": "text/x-python",
   "name": "python",
   "nbconvert_exporter": "python",
   "pygments_lexer": "ipython3",
   "version": "3.4.3"
  }
 },
 "nbformat": 4,
 "nbformat_minor": 0
}
