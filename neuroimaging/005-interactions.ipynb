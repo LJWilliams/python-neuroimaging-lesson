{
 "cells": [
  {
   "cell_type": "markdown",
   "metadata": {},
   "source": [
    "### Brain-hacking 101\n",
    "\n",
    "Author: [**Ariel Rokem**](http://arokem.org), [**The University of Washington eScience Institute**](http://escience.washington.edu)"
   ]
  },
  {
   "cell_type": "markdown",
   "metadata": {},
   "source": [
    "### Hack 4: interact with the data\n",
    "To get a sense of your data, one of the best things you can do is to interactively explore the patterns in your data. \n",
    "While building full-fledged interactive applications that do more than one thing is rather hard, it is possible to build small interactive data-exploration tools, that do just one thing, with only a few lines of code. Here, we'll show how to do that using `IPython`'s interactive widget system. We will demonstrate this below"
   ]
  },
  {
   "cell_type": "code",
   "execution_count": null,
   "metadata": {
    "collapsed": true
   },
   "outputs": [],
   "source": [
    "import numpy as np\n",
    "import nibabel as nib\n",
    "import matplotlib as mpl\n",
    "import matplotlib.pyplot as plt\n",
    "%matplotlib inline\n",
    "mpl.style.use('bmh')"
   ]
  },
  {
   "cell_type": "code",
   "execution_count": null,
   "metadata": {
    "collapsed": true
   },
   "outputs": [],
   "source": [
    "img = nib.load('./data/run1.nii.gz')\n",
    "data = img.get_data()"
   ]
  },
  {
   "cell_type": "code",
   "execution_count": null,
   "metadata": {
    "collapsed": true
   },
   "outputs": [],
   "source": [
    "import scipy.signal as sps"
   ]
  },
  {
   "cell_type": "code",
   "execution_count": null,
   "metadata": {
    "collapsed": false
   },
   "outputs": [],
   "source": [
    "tsnr = np.mean(data, -1) / np.std(data, -1)"
   ]
  },
  {
   "cell_type": "code",
   "execution_count": null,
   "metadata": {
    "collapsed": true
   },
   "outputs": [],
   "source": [
    "def plot_tsnr(x=data.shape[0]/2, y=data.shape[1]/2, z=data.shape[2]/2):\n",
    "    fig, axes = plt.subplots(2, 2)\n",
    "    ax = axes[0, 0]\n",
    "    ax.axis('off')\n",
    "    ax.matshow(tsnr[:, :, z], cmap=mpl.cm.hot)\n",
    "    ax = axes[0, 1]\n",
    "    ax.axis('off')\n",
    "    ax.matshow(np.rot90(tsnr[:, y, :]), cmap=mpl.cm.hot)\n",
    "    ax = axes[1, 0]\n",
    "    ax.axis('off')\n",
    "    ax.matshow(np.rot90(tsnr[x, :, :]), cmap=mpl.cm.hot)\n",
    "    ax = axes[1, 1]\n",
    "    ax.plot(data[x, y, z])\n",
    "    ax.set_xlabel('Time')\n",
    "    ax.set_ylabel('FMRI signal  (a.u.)')\n",
    "    fig.set_size_inches(10, 10)\n",
    "    return fig"
   ]
  },
  {
   "cell_type": "code",
   "execution_count": null,
   "metadata": {
    "collapsed": false
   },
   "outputs": [],
   "source": [
    "import ipywidgets as wdg\n",
    "import IPython.display as display"
   ]
  },
  {
   "cell_type": "code",
   "execution_count": null,
   "metadata": {
    "collapsed": false
   },
   "outputs": [],
   "source": [
    "pb_widget = wdg.interactive(plot_tsnr, \n",
    "                            x=wdg.IntSlider(min=1, max=data.shape[0], value=data.shape[0]//2),\n",
    "                            y=wdg.IntSlider(min=1, max=data.shape[1], value=data.shape[1]//2),\n",
    "                            z=wdg.IntSlider(min=1, max=data.shape[2], value=data.shape[2]//2)\n",
    "                            )\n",
    "display.display(pb_widget)"
   ]
  },
  {
   "cell_type": "code",
   "execution_count": null,
   "metadata": {
    "collapsed": true
   },
   "outputs": [],
   "source": [
    "wdg."
   ]
  }
 ],
 "metadata": {
  "kernelspec": {
   "display_name": "Python 3",
   "language": "python",
   "name": "python3"
  },
  "language_info": {
   "codemirror_mode": {
    "name": "ipython",
    "version": 3
   },
   "file_extension": ".py",
   "mimetype": "text/x-python",
   "name": "python",
   "nbconvert_exporter": "python",
   "pygments_lexer": "ipython3",
   "version": "3.4.3"
  }
 },
 "nbformat": 4,
 "nbformat_minor": 0
}
