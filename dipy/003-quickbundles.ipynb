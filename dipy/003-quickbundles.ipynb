{
 "cells": [
  {
   "cell_type": "markdown",
   "metadata": {},
   "source": [
    "### Tractography Clustering with QuickBundles\n",
    "\n",
    "QuickBundles ([Garyfallidis et al. 2012](http://journal.frontiersin.org/article/10.3389/fnins.2012.00175/abstract)) is a powerful algorithm for simplifying and clustering collections of streamlinse\n",
    "\n",
    "We'll show here how to use this to cluster a small bundle: the fornix"
   ]
  },
  {
   "cell_type": "code",
   "execution_count": 1,
   "metadata": {
    "collapsed": true
   },
   "outputs": [],
   "source": [
    "import numpy as np\n",
    "from dipy.data import get_data\n",
    "from nibabel import trackvis as tv\n",
    "\n",
    "fname = get_data('fornix')\n",
    "streams, hdr = tv.read(fname)\n",
    "streamlines = [i[0] for i in streams]"
   ]
  },
  {
   "cell_type": "code",
   "execution_count": null,
   "metadata": {
    "collapsed": true
   },
   "outputs": [],
   "source": [
    "from dipy.viz import fvtk\n",
    "ren = fvtk.ren()\n",
    "ren.SetBackground(1, 1, 1)\n",
    "fvtk.add(ren, fvtk.streamtube(streamlines, fvtk.colors.white))\n",
    "fvtk.record(ren, n_frames=1, out_path='fornix_initial.png', size=(600, 600))\n",
    "fvtk.show(ren)"
   ]
  },
  {
   "cell_type": "markdown",
   "metadata": {},
   "source": [
    "Per default, QuickBundles uses a distance metric called 'MDF' (minimum-direct-flipped) as a distance metric between streamlines, and a 10mm distance threshold. \n",
    "\n",
    "The MDF metric requires streamlines to have the same number of points, so the clustering algorithm will internally \n",
    "use a representation of streamlines that have been automatically downsampled/upsampled so they have only 12 points (This can also be set manually)."
   ]
  },
  {
   "cell_type": "code",
   "execution_count": 2,
   "metadata": {
    "collapsed": true
   },
   "outputs": [],
   "source": [
    "from dipy.segment.clustering import QuickBundles\n",
    "\n",
    "qb = QuickBundles(threshold=10.)\n",
    "clusters = qb.cluster(streamlines)"
   ]
  },
  {
   "cell_type": "markdown",
   "metadata": {},
   "source": [
    "`clusters` is a `ClusterMap` object which contains attributes that\n",
    "provide information about the clustering result."
   ]
  },
  {
   "cell_type": "code",
   "execution_count": 4,
   "metadata": {
    "collapsed": false
   },
   "outputs": [
    {
     "name": "stdout",
     "output_type": "stream",
     "text": [
      "('Number of clusters:', 4)\n",
      "('Cluster sizes:', [61, 191, 47, 1])\n",
      "('Small clusters:', array([False, False, False,  True], dtype=bool))\n",
      "('Streamlines indices of the first cluster:\\n', [0, 7, 8, 10, 11, 12, 13, 14, 15, 18, 26, 30, 33, 35, 41, 65, 66, 85, 100, 101, 105, 115, 116, 119, 122, 123, 124, 125, 126, 128, 129, 135, 139, 142, 143, 144, 148, 151, 159, 167, 175, 180, 181, 185, 200, 208, 210, 224, 237, 246, 249, 251, 256, 267, 270, 280, 284, 293, 296, 297, 299])\n",
      "('Centroid of the last cluster:\\n', array([[  84.83773804,  117.92590332,   77.32278442],\n",
      "       [  86.10850525,  115.84362793,   81.91885376],\n",
      "       [  86.40357208,  112.25676727,   85.72930145],\n",
      "       [  86.48336792,  107.60327911,   88.13782501],\n",
      "       [  86.23897552,  102.5100708 ,   89.29447174],\n",
      "       [  85.04563904,   97.46020508,   88.54240417],\n",
      "       [  82.60240173,   93.14851379,   86.84208679],\n",
      "       [  78.98937225,   89.57682037,   85.63652039],\n",
      "       [  74.72344208,   86.60827637,   84.9391861 ],\n",
      "       [  70.40846252,   85.15874481,   82.4484024 ],\n",
      "       [  66.74534607,   86.00262451,   78.82582092],\n",
      "       [  64.02451324,   88.43942261,   75.0697403 ]], dtype=float32))\n"
     ]
    }
   ],
   "source": [
    "print(\"Number of clusters:\", len(clusters))\n",
    "print(\"Cluster sizes:\", map(len, clusters))\n",
    "print(\"Small clusters:\", clusters < 10)\n",
    "print(\"Streamlines indices of the first cluster:\\n\", clusters[0].indices)\n",
    "print(\"Centroid of the last cluster:\\n\", clusters[-1].centroid)"
   ]
  },
  {
   "cell_type": "markdown",
   "metadata": {},
   "source": [
    "Let's visualize this. First, the centroids:"
   ]
  },
  {
   "cell_type": "code",
   "execution_count": 12,
   "metadata": {
    "collapsed": true
   },
   "outputs": [],
   "source": [
    "colormap = fvtk.create_colormap(np.arange(len(clusters)))\n",
    "fvtk.clear(ren)\n",
    "ren.SetBackground(1, 1, 1)\n",
    "fvtk.add(ren, fvtk.streamtube(streamlines, fvtk.colors.white, opacity=0.05))\n",
    "fvtk.add(ren, fvtk.streamtube(clusters.centroids, colormap, linewidth=0.4))\n",
    "fvtk.record(ren, n_frames=1, out_path='fornix_centroids.png', size=(600, 600))\n",
    "fvtk.show(ren)"
   ]
  },
  {
   "cell_type": "markdown",
   "metadata": {},
   "source": [
    "Next, the centroid assignment of the entire set:"
   ]
  },
  {
   "cell_type": "code",
   "execution_count": 13,
   "metadata": {
    "collapsed": true
   },
   "outputs": [],
   "source": [
    "colormap_full = np.ones((len(streamlines), 3))\n",
    "for cluster, color in zip(clusters, colormap):\n",
    "    colormap_full[cluster.indices] = color\n",
    "\n",
    "fvtk.clear(ren)\n",
    "ren.SetBackground(1, 1, 1)\n",
    "fvtk.add(ren, fvtk.streamtube(streamlines, colormap_full))\n",
    "fvtk.record(ren, n_frames=1, out_path='fornix_clusters.png', size=(600, 600))\n",
    "fvtk.show(ren)"
   ]
  },
  {
   "cell_type": "markdown",
   "metadata": {},
   "source": [
    "You can save the cluster map into a Python file format called a 'pickle'. This is useful for storing cluster maps for later use:"
   ]
  },
  {
   "cell_type": "code",
   "execution_count": 10,
   "metadata": {
    "collapsed": false
   },
   "outputs": [],
   "source": [
    "from dipy.io.pickles import save_pickle, load_pickle\n",
    "save_pickle('QB.pkl', clusters)"
   ]
  },
  {
   "cell_type": "markdown",
   "metadata": {},
   "source": [
    "### Exercise: Load the tracks from the previous notebook and cluster them using QuickBundles"
   ]
  },
  {
   "cell_type": "code",
   "execution_count": null,
   "metadata": {
    "collapsed": true
   },
   "outputs": [],
   "source": []
  }
 ],
 "metadata": {
  "kernelspec": {
   "display_name": "Python 2",
   "language": "python",
   "name": "python2"
  },
  "language_info": {
   "codemirror_mode": {
    "name": "ipython",
    "version": 2
   },
   "file_extension": ".py",
   "mimetype": "text/x-python",
   "name": "python",
   "nbconvert_exporter": "python",
   "pygments_lexer": "ipython2",
   "version": "2.7.10"
  }
 },
 "nbformat": 4,
 "nbformat_minor": 0
}
