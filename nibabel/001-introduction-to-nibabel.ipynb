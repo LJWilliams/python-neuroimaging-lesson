{
 "cells": [
  {
   "cell_type": "markdown",
   "metadata": {},
   "source": [
    "# [`Nibabel`](http://nipy.org/nibabel): Reading and writing neuroimaging file-formats\n",
    "\n",
    "\n",
    "### Why Nibabel? \n",
    "- Pure Python (no need to compile extensions).\n",
    "- Handles many file formats.\n",
    "- Very well-tested. \n",
    "- Active developer community. \n"
   ]
  },
  {
   "cell_type": "markdown",
   "metadata": {},
   "source": [
    "The following is based on a [tutorial](http://nipy.org/nibabel/coordinate_systems.html) that is part of the nibabel documentation.\n",
    "\n",
    "### A nibabel (and nipy) image is the association of three things:\n",
    "\n",
    "- The image data array: a 3D or 4D array of image data\n",
    "- An affine array that tells you the position of the image array data in a reference space.\n",
    "- image metadata (data about the data) describing the image, usually in the form of an image header.\n",
    "\n",
    "In the following, we will look at how the affine array describes the position of the image data in a reference space. \n",
    "\n",
    "On the way we will define what we mean by reference space, and the reference spaces that Nibabel uses."
   ]
  },
  {
   "cell_type": "code",
   "execution_count": 1,
   "metadata": {
    "collapsed": true
   },
   "outputs": [],
   "source": [
    "import numpy as np\n",
    "import nibabel as nib"
   ]
  },
  {
   "cell_type": "code",
   "execution_count": 2,
   "metadata": {
    "collapsed": false
   },
   "outputs": [
    {
     "name": "stdout",
     "output_type": "stream",
     "text": [
      "(53, 61, 33)\n"
     ]
    }
   ],
   "source": [
    "epi_img = nib.load('data/someones_epi.nii.gz')\n",
    "epi_data = epi_img.get_data()\n",
    "print(epi_data.shape)"
   ]
  },
  {
   "cell_type": "code",
   "execution_count": 3,
   "metadata": {
    "collapsed": false
   },
   "outputs": [
    {
     "name": "stdout",
     "output_type": "stream",
     "text": [
      "[[  3.           0.           0.         -78.        ]\n",
      " [  0.           2.86600947  -0.88656062 -76.        ]\n",
      " [  0.           0.88656062   2.86600947 -64.        ]\n",
      " [  0.           0.           0.           1.        ]]\n"
     ]
    }
   ],
   "source": [
    "epi_affine = epi_img.get_affine()\n",
    "print(epi_affine)"
   ]
  },
  {
   "cell_type": "code",
   "execution_count": 4,
   "metadata": {
    "collapsed": false
   },
   "outputs": [
    {
     "name": "stdout",
     "output_type": "stream",
     "text": [
      "<class 'nibabel.nifti1.Nifti1Header'> object, endian='<'\n",
      "sizeof_hdr      : 348\n",
      "data_type       : \n",
      "db_name         : \n",
      "extents         : 0\n",
      "session_error   : 0\n",
      "regular         : \n",
      "dim_info        : 0\n",
      "dim             : [ 3 53 61 33  1  1  1  1]\n",
      "intent_p1       : 0.0\n",
      "intent_p2       : 0.0\n",
      "intent_p3       : 0.0\n",
      "intent_code     : none\n",
      "datatype        : uint8\n",
      "bitpix          : 8\n",
      "slice_start     : 0\n",
      "pixdim          : [ 1.  3.  3.  3.  1.  1.  1.  1.]\n",
      "vox_offset      : 0.0\n",
      "scl_slope       : nan\n",
      "scl_inter       : nan\n",
      "slice_end       : 0\n",
      "slice_code      : unknown\n",
      "xyzt_units      : 2\n",
      "cal_max         : 0.0\n",
      "cal_min         : 0.0\n",
      "slice_duration  : 0.0\n",
      "toffset         : 0.0\n",
      "glmax           : 0\n",
      "glmin           : 0\n",
      "descrip         : \n",
      "aux_file        : \n",
      "qform_code      : mni\n",
      "sform_code      : mni\n",
      "quatern_b       : 0.149438127875\n",
      "quatern_c       : -0.0\n",
      "quatern_d       : -0.0\n",
      "qoffset_x       : -78.0\n",
      "qoffset_y       : -76.0\n",
      "qoffset_z       : -64.0\n",
      "srow_x          : [  3.   0.   0. -78.]\n",
      "srow_y          : [  0.           2.86600947  -0.88656062 -76.        ]\n",
      "srow_z          : [  0.           0.88656062   2.86600947 -64.        ]\n",
      "intent_name     : \n",
      "magic           : n+1\n"
     ]
    }
   ],
   "source": [
    "epi_hdr = epi_img.get_header()\n",
    "print(epi_hdr)"
   ]
  },
  {
   "cell_type": "code",
   "execution_count": 5,
   "metadata": {
    "collapsed": true
   },
   "outputs": [],
   "source": [
    "import matplotlib.pyplot as plt\n",
    "%matplotlib inline\n",
    "\n",
    "def show_slices(slices):\n",
    "    \"\"\" Function to display row of image slices \"\"\"\n",
    "    fig, axes = plt.subplots(1, len(slices))\n",
    "    for i, slice in enumerate(slices):\n",
    "        axes[i].imshow(slice.T, cmap=\"gray\", origin=\"lower\")"
   ]
  },
  {
   "cell_type": "code",
   "execution_count": 6,
   "metadata": {
    "collapsed": false
   },
   "outputs": [
    {
     "data": {
      "text/plain": [
       "<matplotlib.text.Text at 0x106695690>"
      ]
     },
     "execution_count": 6,
     "metadata": {},
     "output_type": "execute_result"
    },
    {
     "data": {
      "image/png": "[encoded data removed]",
      "text/plain": [
       "<matplotlib.figure.Figure at 0x1059b1810>"
      ]
     },
     "metadata": {},
     "output_type": "display_data"
    }
   ],
   "source": [
    "slice_0 = epi_data[epi_data.shape[0]//2, :, :]  # What does '//' denote? \n",
    "slice_1 = epi_data[:, epi_data.shape[1]//2, :]\n",
    "slice_2 = epi_data[:, :, epi_data.shape[2]//2]\n",
    "show_slices([slice_0, slice_1, slice_2])\n",
    "plt.suptitle(\"Center slices for DWI image 0\")  "
   ]
  },
  {
   "cell_type": "markdown",
   "metadata": {},
   "source": [
    "## We also collected an anatomical image for the same subject"
   ]
  },
  {
   "cell_type": "code",
   "execution_count": 7,
   "metadata": {
    "collapsed": false
   },
   "outputs": [
    {
     "name": "stdout",
     "output_type": "stream",
     "text": [
      "(57, 67, 56)\n"
     ]
    }
   ],
   "source": [
    "anat_img = nib.load('data/someones_anatomy.nii.gz')\n",
    "anat_data = anat_img.get_data()\n",
    "print(anat_data.shape)"
   ]
  },
  {
   "cell_type": "code",
   "execution_count": 8,
   "metadata": {
    "collapsed": false
   },
   "outputs": [
    {
     "name": "stdout",
     "output_type": "stream",
     "text": [
      "[[  2.75   0.     0.   -78.  ]\n",
      " [  0.     2.75   0.   -91.  ]\n",
      " [  0.     0.     2.75 -91.  ]\n",
      " [  0.     0.     0.     1.  ]]\n"
     ]
    }
   ],
   "source": [
    "anat_affine = anat_img.get_affine()\n",
    "print(anat_affine)"
   ]
  },
  {
   "cell_type": "code",
   "execution_count": 9,
   "metadata": {
    "collapsed": false
   },
   "outputs": [
    {
     "data": {
      "text/plain": [
       "<matplotlib.text.Text at 0x10713ead0>"
      ]
     },
     "execution_count": 9,
     "metadata": {},
     "output_type": "execute_result"
    },
    {
     "data": {
      "image/png": "[encoded data removed]",
      "text/plain": [
       "<matplotlib.figure.Figure at 0x1059c8050>"
      ]
     },
     "metadata": {},
     "output_type": "display_data"
    }
   ],
   "source": [
    "show_slices([anat_data[anat_data.shape[0]//2, :, :], \n",
    "             anat_data[:, anat_data.shape[1]//2, :],\n",
    "             anat_data[:, :, anat_data.shape[2]//2]])\n",
    "\n",
    "plt.suptitle(\"Center slices for anatomical image\")  "
   ]
  },
  {
   "cell_type": "markdown",
   "metadata": {},
   "source": [
    "## Coordinate systems and affine transformations \n"
   ]
  },
  {
   "cell_type": "markdown",
   "metadata": {},
   "source": [
    "### Voxel coordinates are coordinates in the image data array\n",
    "\n",
    "In the code above, slice_0 from the DWI data is a 2D slice from a 3D image (selected from the full 4D time-series). \n",
    "The plot of the DWI slices displays the slices in grayscale (graded between black for the minimum value, white for the maximum). Each pixel in the slice grayscale image represents a voxel, because this 2D image represents a slice from the 3D image with a certain thickness (based on what you've seen so far - *how thick is it?*)\n",
    "\n",
    "The 3D array is therefore also a voxel array. As for any array, we can select particular values by indexing. For example, we can get the value for the middle voxel in the first volume of the DWI data array like this:"
   ]
  },
  {
   "cell_type": "code",
   "execution_count": 10,
   "metadata": {
    "collapsed": false
   },
   "outputs": [
    {
     "name": "stdout",
     "output_type": "stream",
     "text": [
      "(26.0, 30.0, 16.0)\n"
     ]
    }
   ],
   "source": [
    "n_i, n_j, n_k = epi_data.shape\n",
    "center_i = (n_i - 1) // 2.\n",
    "center_j = (n_j - 1) // 2.\n",
    "center_k = (n_k - 1) // 2.\n",
    "print(center_i, center_j, center_k)"
   ]
  },
  {
   "cell_type": "code",
   "execution_count": 11,
   "metadata": {
    "collapsed": false
   },
   "outputs": [
    {
     "name": "stdout",
     "output_type": "stream",
     "text": [
      "81.549287796\n"
     ]
    },
    {
     "name": "stderr",
     "output_type": "stream",
     "text": [
      "/Users/arokem/anaconda/envs/py2/lib/python2.7/site-packages/ipykernel/__main__.py:1: DeprecationWarning: using a non-integer number instead of an integer will result in an error in the future\n",
      "  if __name__ == '__main__':\n"
     ]
    }
   ],
   "source": [
    "center_vox_value = epi_data[center_i, center_j, center_k]\n",
    "print(center_vox_value)"
   ]
  },
  {
   "cell_type": "markdown",
   "metadata": {},
   "source": [
    "The values `(26, 30, 16)` are indices into the data array epi_img_data. \n",
    "`(26, 30, 16)` is therefore a ‘voxel coordinate’ - a coordinate into the voxel array.\n",
    "\n",
    "A coordinate is a set of numbers giving positions relative to a set of axes. In this case 26 is a position on the first array axis, where the axis is of length `epi_data.shape[0]`, and therefore goes from 0 to 52 (`epi_data.shape == (53, 61, 33)`). Similarly `30` gives a position on the second axis (0 to 60) and `16` is the position on the third axis (0 to 32)."
   ]
  },
  {
   "cell_type": "markdown",
   "metadata": {},
   "source": [
    "### Voxel coordinates and points in space\n",
    "The voxel coordinate tells us almost nothing about where the data came from in terms of position in the scanner. \n",
    "For example, let’s say we have the voxel coordinate `(26, 30, 16)`. Without more information we have no idea whether this voxel position is on the left or right of the brain, or came from the left or right of the scanner.\n",
    "\n",
    "This is because the scanner allows us to collect voxel data in almost any arbitrary position and orientation within the magnet.\n",
    "\n",
    "In the case of Someone’s EPI, we took transverse slices at a moderate angle to the floor to ceiling direction. This localizer image from the scanner console has a red box that shows the position of the slice block for someones_epi.nii.gz and a blue box for the slice block of someones_anatomy.nii.gz:\n",
    "\n"
   ]
  },
  {
   "cell_type": "markdown",
   "metadata": {},
   "source": [
    "<img src=\"./images/localizer.png\">"
   ]
  },
  {
   "cell_type": "markdown",
   "metadata": {},
   "source": [
    "The localizer is oriented to the magnet, so that the left and right borders of the image are parallel to the floor of the scanner room, with the left border being towards the floor and the right border towards the ceiling.\n",
    "\n",
    "You will see from the labels on the localizer that the center of the EPI voxel data block (at 26, 30, 16 in epi_img_data) is not quite at the center of magnet bore (the magnet isocenter).\n",
    "\n",
    "We have an anatomical and an EPI scan, and later on we will surely want to be able to relate the data from someones_epi.nii.gz to someones_anatomy.nii.gz. We can’t easily do this at the moment, because we collected the anatomical image with a different field of view and orientation to the EPI image, so the voxel coordinates in the EPI image refer to different locations in the magnet to the voxel coordinates in the anatomical image.\n",
    "\n",
    "We solve this problem by keeping track of the relationship of voxel coordinates to some reference space. In particular, the affine array stores the relationship between voxel coordinates in the image data array and coordinates in the reference space. We store the relationship of voxel coordinates from `someones_epi.nii.gz` and the reference space, and also the (different) relationship of voxel coordinates in `someones_anatomy.nii.gz` to the same reference space. Because we know the relationship of (voxel coordinates to the reference space) for both images, we can use this information to relate voxel coordinates in `someones_epi.nii.gz` to spatially equivalent voxel coordinates in `someones_anatomy.nii.gz`."
   ]
  },
  {
   "cell_type": "markdown",
   "metadata": {},
   "source": [
    "### The scanner-subject reference space\n",
    "\n",
    "What does “space” mean in the phrase “reference space”? The space is defined by an ordered set of axes. For our 3D spatial world, it is a set of 3 independent axes.\n",
    "\n",
    "We can decide what space we want to use, by choosing these axes. We need to choose the origin of the axes, their direction and their units.\n",
    "\n",
    "To start with, we define a set of three orthogonal scanner axes.\n",
    "\n"
   ]
  },
  {
   "cell_type": "markdown",
   "metadata": {},
   "source": [
    "### The scanner axes\n",
    "\n",
    "The origin of the axes is at the magnet isocenter. This is coordinate `(0, 0, 0)` in our reference space. \n",
    "\n",
    "All three axes pass through the isocenter.\n",
    "\n",
    "The units for all three axes are millimeters.\n",
    "\n",
    "Imagine an observer standing behind the scanner looking through the magnet bore towards the end of the scanner bed. Imagine a line traveling towards the observer through the center of the magnet bore, parallel to the bed, with the zero point at the magnet isocenter, and positive values closer to the observer. Call this line the scanner-bore axis.\n",
    "\n",
    "Draw a line traveling from the scanner room floor up through the magnet isocenter towards the ceiling, at right angles to the scanner bore axis. 0 is at isocenter and positive values are towards the ceiling. Call this the scanner-floor/ceiling axis.\n",
    "\n",
    "Draw a line at right angles to the other two lines, traveling from the observer’s left, parallel to the floor, and through the magnet isocenter to the observer’s right. 0 is at isocenter and positive values are to the right. Call this the scanner-left/right.\n",
    "\n",
    "If we make the axes have order (scanner left-right; scanner floor-ceiling; scanner bore) then we have an ordered set of 3 axes and therefore the definition of a 3D space. Call the first axis the “X” axis, the second “Y” and the third “Z”. A coordinate of `(x, y, z)=(10,−5,−3)` in this space refers to the point in space 10mm to the (fictional observer’s) right of isocenter, 5mm towards the floor from the isocenter, and 3mm towards the foot of the scanner bed. This reference space is sometimes known as “scanner XYZ”. \n"
   ]
  },
  {
   "cell_type": "markdown",
   "metadata": {},
   "source": [
    "### From scanner to subject\n",
    "\n",
    "If the subject is lying in the usual position for a brain scan, face up and head first in the scanner, then scanner-left/right is also the left-right axis of the subject’s head, scanner-floor/ceiling is the anterior-posterior axis of the head and scanner-bore is the inferior-posterior axis of the head.\n",
    "\n",
    "Sometimes the subject is not lying in the standard position. For example, the subject may be lying with their face pointing to the right (in terms of the scanner-left/right axis). In that case “scanner XYZ” will not tell us about the subject’s left and right, but only the scanner left and right. We might prefer to know where we are in terms of the subject’s left and right.\n",
    "\n",
    "To deal with this problem, most reference spaces use subject- or patient- centered scanner coordinate systems. In these systems, the axes are still the scanner axes above, but the ordering and direction of the axes comes from the position of the subject. The most common subject-centered scanner coordinate system in neuroimaging is called “scanner RAS” (right, anterior, superior). Here the scanner axes are reordered and flipped so that the first axis is the scanner axis that is closest to the left to right axis of the subject, the second is the closest scanner axis to the anterior-posterior axis of the subject, and the third is the closest scanner axis to the inferior-superior axis of the subject. For example, if the subject was lying face to the right in the scanner, then the first (X) axis of the reference system would be scanner-floor/ceiling, but reversed so that positive values are towards the floor. This axis goes from left to right in the subject, with positive values to the right. The second (Y) axis would be scanner-left/right (anterior-posterior in the subject), and the Z axis would be scanner-bore (inferior-posterior).\n",
    "\n"
   ]
  },
  {
   "cell_type": "markdown",
   "metadata": {},
   "source": [
    "### Naming reference spaces\n",
    "\n",
    "Reading names of reference spaces can be confusing because of different meanings that authors use for the same terms, such as ‘left’ and ‘right’.\n",
    "\n",
    "We are using the term “RAS” to mean that the axes are (in terms of the subject): left to Right; posterior to Anterior; and inferior to Superior, respectively. Although it is common to call this convention “RAS”, it is not quite universal, because some use “R”, “A” and “S” in “RAS” to mean that the axes starts on the right, anterior, superior of the subject, rather than ending on the right, anterior, superior. In other words, they would use “RAS” to refer to a coordinate system we would call “LPI”. To be safe, we’ll call our interpretation of the RAS convention “RAS+”, meaning that Right, Anterior, Posterior are all positive values on these axes.\n",
    "\n",
    "Some people also use “right” to mean the right hand side when an observer looks at the front of the scanner, from the foot the scanner bed. Unfortunately, this means that you have to read coordinate system definitions carefully if you are not familiar with a particular convention. We `nibabel` / `nipy` folks agree with most of our brain imaging friends and many of our enemies in that we always use “right” to mean the subject’s right."
   ]
  },
  {
   "cell_type": "markdown",
   "metadata": {},
   "source": [
    "### Voxel coordinates are in voxel space\n",
    "\n",
    "We have not yet made this explicit, but voxel coordinates are also in a space. In this case the space is defined by the three voxel axes (first axis, second axis, third axis), where `0, 0, 0` is the center of the first voxel in the array and the units on the axes are voxels. Voxel coordinates are therefore defined in a reference space called voxel space."
   ]
  },
  {
   "cell_type": "markdown",
   "metadata": {},
   "source": [
    "We have voxel coordinates (in voxel space).  We want to get scanner RAS+\n",
    "coordinates corresponding to the voxel coordinates.  We need a *coordinate\n",
    "transform* to take us from voxel coordinates to scanner RAS+ coordinates.\n",
    "\n",
    "In general, we have some voxel space coordinate $(i, j, k)$, and we want to\n",
    "generate the reference space coordinate $(x, y, z)$.\n",
    "\n",
    "Imagine we had solved this, and we had a coordinate transform function $f$\n",
    "that accepts a voxel coordinate and returns a coordinate in the reference\n",
    "space:\n",
    "\n",
    "$(x, y, z) = f(i, j, k)$\n",
    "\n",
    "$f$ accepts a coordinate in the *input* space and returns a coordinate in the\n",
    "*output* space.  In our case the input space is voxel space and the output\n",
    "space is scanner RAS+.\n",
    "\n",
    "In theory $f$ could be a complicated non-linear function, but in practice, we\n",
    "know that the scanner collects data on a regular grid.  This means that the\n",
    "relationship between $(i, j, k)$ and $(x, y, z)$ is linear (actually\n",
    "*affine*), and can be encoded with linear (actually affine) transformations\n",
    "comprising translations, rotations and zooms ([wikipedia linear transform](https://en.wikipedia.org/wiki/Linear_map),\n",
    "[wikipedia affine transform](https://en.wikipedia.org/wiki/Affine_transformation))."
   ]
  },
  {
   "cell_type": "markdown",
   "metadata": {},
   "source": [
    "### An aside: matrix multiplication\n",
    "\n",
    "One of the best ways to represent a linear (affine) transformation, is a matrix. \n",
    "\n",
    "Some 3-by-3 matrices encode functions of the kind we are looking for: \n",
    "\n",
    "If $\\begin{bmatrix} i\\\\ j\\\\ k\\\\ \\end{bmatrix}$ is a voxel coordinate.\n",
    "\n",
    "Then a *matrix multiplication*: \n",
    "\n",
    "$A \\begin{bmatrix} i\\\\ j\\\\ k\\\\ \\end{bmatrix} = f(i, j, k) = (x, y, z)$ \n",
    "\n",
    "where $A$ is a 3x3 matrix:\n",
    "\n",
    "$A= \n",
    "\\begin{bmatrix}\n",
    "A_{11} & A_{12} & A_{13} \\\\\n",
    "A_{21} & A_{22} & A_{23} \\\\\n",
    "A_{31} & A_{32} & A_{33} \\\\\n",
    "\\end{bmatrix}$\n",
    "\n",
    "and the multiplication is defined as: \n",
    "\n",
    "$A \\begin{bmatrix} i\\\\ j\\\\ k\\\\ \\end{bmatrix} = \\begin{bmatrix} A_{11} i + A_{12} j + A_{13} k \\\\ A_{21} i + A_{22} j + A_{23} k \\\\ A_{11} i + A_{12} j + A_{13} k \\end{bmatrix}$\n",
    "\n",
    "\n",
    "More generally multiplication between two 3x3 matrices: \n",
    "\n",
    "$A B = \\begin{bmatrix} A_{11} B_{11} + A_{12} B_{21} + A_{13} B_{31} & A_{11} B_{12} + A_{12} B_{22} + A_{13} B_{23} & A_{11} B_{13} + A_{12} B_{32} + A_{13} B_{33} \\\\ A_{21} B_{11} + A_{22} B_{21} + A_{23} B_{31} & A_{21} B_{12} + A_{22} B_{22} + A_{23} B_{23} & A_{21} B_{13} + A_{22} B_{32} + A_{23} B_{33} \\\\ A_{31} B_{11} + A_{32} B_{21} + A_{33} B_{31} & A_{31} B_{12} + A_{32} B_{22} + A_{33} B_{23} & A_{31} B_{13} + A_{32} B_{32} + A_{33} B_{33}                    \n",
    "\\end{bmatrix}$\n"
   ]
  },
  {
   "cell_type": "markdown",
   "metadata": {},
   "source": [
    "Scaling (zooming) in three dimensions can be represented by a diagonal 3 by 3\n",
    "matrix.  Here's how to zoom the first dimension by $p$, the second by $q$ and\n",
    "the third by $r$ units:\n",
    "\n",
    "$\\begin{bmatrix}\n",
    "x\\\\\n",
    "y\\\\\n",
    "z\\\\\n",
    "\\end{bmatrix} =\n",
    "\\begin{bmatrix}\n",
    "p i\\\\\n",
    "q j\\\\\n",
    "r k\\\\\n",
    "\\end{bmatrix} =\n",
    "\\begin{bmatrix}\n",
    "p & 0 & 0 \\\\\n",
    "0 & q & 0 \\\\\n",
    "0 & 0 & r \\\\\n",
    "\\end{bmatrix}\n",
    "\\begin{bmatrix}\n",
    "i\\\\\n",
    "j\\\\\n",
    "k\\\\\n",
    "\\end{bmatrix}$\n",
    "\n",
    "A rotation in three dimensions can be represented as a 3 by 3 *rotation\n",
    "matrix* ([wikipedia rotation matrix](https://en.wikipedia.org/wiki/Rotation_matrix)).  \n",
    "For example, here is a rotation by $\\theta$ radians around the third array axis:\n",
    "\n",
    "$\n",
    "\\begin{bmatrix}\n",
    "x\\\\\n",
    "y\\\\\n",
    "z\\\\\n",
    "\\end{bmatrix} =\n",
    "\\begin{bmatrix}\n",
    "\\cos(\\theta) &  -\\sin(\\theta) & 0 \\\\\n",
    "\\sin(\\theta) & \\cos(\\theta) & 0 \\\\\n",
    "0 & 0 & 1 \\\\\n",
    "\\end{bmatrix}\n",
    "\\begin{bmatrix}\n",
    "i\\\\\n",
    "j\\\\\n",
    "k\\\\\n",
    "\\end{bmatrix}\n",
    "$\n",
    "\n",
    "This is a rotation by $\\phi$ radians around the second array axis:\n",
    "\n",
    "$\n",
    "\\begin{bmatrix}\n",
    "x\\\\\n",
    "y\\\\\n",
    "z\\\\\n",
    "\\end{bmatrix} =\n",
    "\\begin{bmatrix}\n",
    "\\cos(\\phi) & 0 & \\sin(\\phi) \\\\\n",
    "0 & 1 & 0 \\\\\n",
    "-\\sin(\\phi) & 0 & \\cos(\\phi) \\\\\n",
    "\\end{bmatrix}\n",
    "\\begin{bmatrix}\n",
    "i\\\\\n",
    "j\\\\\n",
    "k\\\\\n",
    "\\end{bmatrix}\n",
    "$\n",
    "\n",
    "A rotation of $\\gamma$ radians around the first array axis:\n",
    "\n",
    "$\n",
    "\\begin{bmatrix}\n",
    "x\\\\\n",
    "y\\\\\n",
    "z\\\\\n",
    "\\end{bmatrix} =\n",
    "\\begin{bmatrix}\n",
    "1 & 0 & 0 \\\\\n",
    "0 & \\cos(\\gamma) & 0 & -\\sin(\\gamma) \\\\\n",
    "0 & \\sin(\\gamma) & 0 & \\cos(\\gamma) \\\\\n",
    "\\end{bmatrix}\n",
    "\\begin{bmatrix}\n",
    "i\\\\\n",
    "j\\\\\n",
    "k\\\\\n",
    "\\end{bmatrix}\n",
    "$\n",
    "\n",
    "Zoom and rotation matrices can be combined by matrix multiplication."
   ]
  },
  {
   "cell_type": "markdown",
   "metadata": {},
   "source": [
    "Here's a scaling of $p, q, r$ units followed by a rotation of $\\theta$ radians\n",
    "around the third axis followed by a rotation of $\\phi$ radians around the\n",
    "second axis:\n",
    "\n",
    "\n",
    "$\n",
    "\\begin{bmatrix}\n",
    "x\\\\\n",
    "y\\\\\n",
    "z\\\\\n",
    "\\end{bmatrix} =\n",
    "\\begin{bmatrix}\n",
    "\\cos(\\phi) & 0 & \\sin(\\phi) \\\\\n",
    "0 & 1 & 0 \\\\\n",
    "-\\sin(\\phi) & 0 & \\cos(\\phi) \\\\\n",
    "\\end{bmatrix}\n",
    "\\begin{bmatrix}\n",
    "\\cos(\\theta) &  -\\sin(\\theta) & 0 \\\\\n",
    "\\sin(\\theta) & \\cos(\\theta) & 0 \\\\\n",
    "0 & 0 & 1 \\\\\n",
    "\\end{bmatrix}\n",
    "\\begin{bmatrix}\n",
    "p & 0 & 0 \\\\\n",
    "0 & q & 0 \\\\\n",
    "0 & 0 & r \\\\\n",
    "\\end{bmatrix}\n",
    "\\begin{bmatrix}\n",
    "i\\\\\n",
    "j\\\\\n",
    "k\\\\\n",
    "\\end{bmatrix}\n",
    "$ \n",
    "\n",
    "This can also be written:\n",
    "\n",
    "$\n",
    "M =\n",
    "\\begin{bmatrix}\n",
    "\\cos(\\phi) & 0 & \\sin(\\phi) \\\\\n",
    "0 & 1 & 0 \\\\\n",
    "-\\sin(\\phi) & 0 & \\cos(\\phi) \\\\\n",
    "\\end{bmatrix}\n",
    "\\begin{bmatrix}\n",
    "\\cos(\\theta) &  -\\sin(\\theta) & 0 \\\\\n",
    "\\sin(\\theta) & \\cos(\\theta) & 0 \\\\\n",
    "0 & 0 & 1 \\\\\n",
    "\\end{bmatrix}\n",
    "\\begin{bmatrix}\n",
    "p & 0 & 0 \\\\\n",
    "0 & q & 0 \\\\\n",
    "0 & 0 & r \\\\\n",
    "\\end{bmatrix}\n",
    "\\begin{bmatrix}\n",
    "x\\\\\n",
    "y\\\\\n",
    "z\\\\\n",
    "\\end{bmatrix} = M\n",
    "\\begin{bmatrix}\n",
    "i\\\\\n",
    "j\\\\\n",
    "k\\\\\n",
    "\\end{bmatrix}\n",
    "$\n",
    "\n",
    "This might be obvious because the matrix multiplication is the result of\n",
    "applying each transformation in turn on the coordinates output from the\n",
    "previous transformation. Combining the transformations into a single matrix\n",
    "$M$ works because matrix multiplication is associative: $ABCD = (ABC)D$."
   ]
  },
  {
   "cell_type": "markdown",
   "metadata": {},
   "source": [
    "A translation in three dimensions can be represented as a length 3 vector to\n",
    "be added to the length 3 coordinate.  For example, a translation of $a$ units\n",
    "on the first axis, $b$ on the second and $c$ on the third might be written\n",
    "as:\n",
    "\n",
    "$\n",
    "\\begin{bmatrix}\n",
    "x\\\\\n",
    "y\\\\\n",
    "z\\\\\n",
    "\\end{bmatrix} =\n",
    "\\begin{bmatrix}\n",
    "i\\\\\n",
    "j\\\\\n",
    "k\\\\\n",
    "\\end{bmatrix} +\n",
    "\\begin{bmatrix}\n",
    "a \\\\\n",
    "b \\\\\n",
    "c \\\\\n",
    "\\end{bmatrix}\n",
    "$ "
   ]
  },
  {
   "cell_type": "markdown",
   "metadata": {},
   "source": [
    "We can write our function $f$ as a combination of matrix multiplication by\n",
    "some 3 by 3 rotation / zoom matrix $M$ followed by addition of a 3 by 1\n",
    "translation vector $(a, b, c)$\n",
    "\n",
    "$\n",
    "\\begin{bmatrix}\n",
    "x\\\\\n",
    "y\\\\\n",
    "z\\\\\n",
    "\\end{bmatrix} = M\n",
    "\\begin{bmatrix}\n",
    "i\\\\\n",
    "j\\\\\n",
    "k\\\\\n",
    "\\end{bmatrix} +\n",
    "\\begin{bmatrix}\n",
    "a\\\\\n",
    "b\\\\\n",
    "c\\\\\n",
    "\\end{bmatrix}\n",
    "$ \n",
    "\n",
    "We could record the parameters necessary for $f$ as the 3 by 3 matrix, $M$\n",
    "and the 3 by 1 vector $(a, b, c)$."
   ]
  },
  {
   "cell_type": "markdown",
   "metadata": {},
   "source": [
    "In fact, the 4 by 4 image *affine array* does include exactly this\n",
    "information. If $m_{ij}$ is the value in row $i$ column $j$ of matrix $M$,\n",
    "then the image affine matrix $A$ is:\n",
    "\n",
    "$\n",
    "A =\n",
    "\\begin{bmatrix}\n",
    "m_{11} & m_{12} & m_{13} & a \\\\\n",
    "m_{21} & m_{22} & m_{23} & b \\\\\n",
    "m_{31} & m_{32} & m_{33} & c \\\\\n",
    "0 & 0 & 0 & 1 \\\\\n",
    "\\end{bmatrix}\n",
    "$ \n",
    "\n",
    "Why the extra row of $[0, 0, 0, 1]$?  We need this row because we have\n",
    "rephrased the combination of rotations / zooms and translations as a\n",
    "transformation in *homogenous coordinates* (see `wikipedia homogenous\n",
    "coordinates`_).  This is a trick that allows us to put the translation part\n",
    "into the same matrix as the rotations / zooms, so that both translations and\n",
    "rotations / zooms can be applied by matrix multiplication.  In order to make\n",
    "this work, we have to add an extra 1 to our input and output coordinate\n",
    "vectors:\n",
    "\n",
    "$\n",
    "\\begin{bmatrix}\n",
    "x\\\\\n",
    "y\\\\\n",
    "z\\\\\n",
    "1\\\\\n",
    "\\end{bmatrix} =\n",
    "\\begin{bmatrix}\n",
    "m_{11} & m_{12} & m_{13} & a \\\\\n",
    "m_{21} & m_{22} & m_{23} & b \\\\\n",
    "m_{31} & m_{32} & m_{33} & c \\\\\n",
    "0 & 0 & 0 & 1 \\\\\n",
    "\\end{bmatrix}\n",
    "\\begin{bmatrix}\n",
    "i\\\\\n",
    "j\\\\\n",
    "k\\\\\n",
    "1\\\\\n",
    "\\end{bmatrix}\n",
    "$\n",
    "\n",
    "This results in the same transformation as applying $M$ and $(a, b, c)$\n",
    "separately. One advantage of encoding transformations this way is that we can\n",
    "combine two sets of [rotations, zooms, translations] by matrix multiplication\n",
    "of the two corresponding affine matrices."
   ]
  },
  {
   "cell_type": "markdown",
   "metadata": {},
   "source": [
    "In practice, although it is common to combine 3D transformations using 4 by 4\n",
    "affine matrices, we usually *apply* the transformations by breaking up the\n",
    "affine matrix into its component $M$ matrix and $(a, b, c)$ vector and doing:\n",
    "\n",
    "$\n",
    "\\begin{bmatrix}\n",
    "x\\\\\n",
    "y\\\\\n",
    "z\\\\\n",
    "\\end{bmatrix} = M\n",
    "\\begin{bmatrix}\n",
    "i\\\\\n",
    "j\\\\\n",
    "k\\\\\n",
    "\\end{bmatrix} +\n",
    "\\begin{bmatrix}\n",
    "a\\\\\n",
    "b\\\\\n",
    "c\\\\\n",
    "\\end{bmatrix}\n",
    "$\n",
    "\n",
    "As long as the last row of the 4 by 4 is $[0, 0, 0, 1]$, applying the\n",
    "transformations in this way is mathematically the same as using the full 4 by\n",
    "4 form, without the inconvenience of adding the extra 1 to our input and\n",
    "output vectors.\n"
   ]
  },
  {
   "cell_type": "markdown",
   "metadata": {},
   "source": [
    "### The inverse of the affine gives the mapping from scanner to voxel\n",
    "\n",
    "The affine arrays we have described so far have another pleasant property - they are usually invertible.  \n",
    "\n",
    "#### Inverse of a matrix\n",
    "The inverse of a matrix $A$ is the matrix $A^{-1}$ such that $I = A^{-1} A$, where $I$ is the identity\n",
    "matrix.  Put another way:\n",
    "\n",
    "$\n",
    "\\begin{bmatrix}\n",
    "x\\\\\n",
    "y\\\\\n",
    "z\\\\\n",
    "1\\\\\n",
    "\\end{bmatrix} = A\n",
    "\\begin{bmatrix}\n",
    "i\\\\\n",
    "j\\\\\n",
    "k\\\\\n",
    "1\\\\\n",
    "\\end{bmatrix}\n",
    "$ \n",
    "\n",
    "$\n",
    "\\begin{bmatrix}\n",
    "i\\\\\n",
    "j\\\\\n",
    "k\\\\\n",
    "1\\\\\n",
    "\\end{bmatrix}\n",
    "= A^{-1}\n",
    "\\begin{bmatrix}\n",
    "x\\\\\n",
    "y\\\\\n",
    "z\\\\\n",
    "1\\\\\n",
    "\\end{bmatrix}\n",
    "$\n",
    "\n",
    "That means that the inverse of the affine matrix gives the transformation from\n",
    "scanner RAS+ coordinates to voxel coordinates in the image data.\n",
    "\n",
    "Now imagine we have affine array $A$ for ``someones_epi.nii.gz``, and affine array\n",
    "$B$ for ``someones_anatomy.nii.gz``.  $A$ gives the mapping from voxels in the\n",
    "image data array of ``someones_epi.nii.gz`` to millimeters in scanner RAS+.  $B$\n",
    "gives the mapping from voxels in image data array of\n",
    "``someones_anatomy.nii.gz`` to *the same* scanner RAS+.  Now let's say we have\n",
    "a particular voxel coordinate $(i, j, k)$ in the data array of\n",
    "``someones_epi.nii.gz``, and we want to find the voxel in\n",
    "``someones_anatomy.nii.gz`` that is in the same spatial position.  Call this\n",
    "matching voxel coordinate $(i', j', k')$ . We first apply the transform from\n",
    "``someones_epi.nii.gz`` voxels to scanner RAS+ ($A$) and then apply the transform\n",
    "from scanner RAS+ to voxels in ``someones_anatomy.nii.gz`` ($B^{-1}$):\n",
    "\n",
    "$\n",
    "\\begin{bmatrix}\n",
    "i'\\\\\n",
    "j'\\\\\n",
    "k'\\\\\n",
    "1\\\\\n",
    "\\end{bmatrix} = B^{-1} A\n",
    "\\begin{bmatrix}\n",
    "i\\\\\n",
    "j\\\\\n",
    "k\\\\\n",
    "1\\\\\n",
    "\\end{bmatrix}\n",
    "$"
   ]
  },
  {
   "cell_type": "markdown",
   "metadata": {},
   "source": [
    "### The affine by example\n",
    "\n",
    "Now you should understand what each part of the affine for the EPI scan means (For example, why is the last row $[0, 0, 0, 1]$? What does it mean that the last column is negative? What happens to the origin ($(0,0,0)$) when it is transformed through this?):"
   ]
  },
  {
   "cell_type": "code",
   "execution_count": 12,
   "metadata": {
    "collapsed": false
   },
   "outputs": [
    {
     "data": {
      "text/plain": [
       "array([[  3.        ,   0.        ,   0.        , -78.        ],\n",
       "       [  0.        ,   2.86600947,  -0.88656062, -76.        ],\n",
       "       [  0.        ,   0.88656062,   2.86600947, -64.        ],\n",
       "       [  0.        ,   0.        ,   0.        ,   1.        ]])"
      ]
     },
     "execution_count": 12,
     "metadata": {},
     "output_type": "execute_result"
    }
   ],
   "source": [
    "epi_affine"
   ]
  },
  {
   "cell_type": "markdown",
   "metadata": {},
   "source": [
    "### Applying the affine\n",
    "\n",
    "To make the affine simpler to apply, we split it into $M$ and $(a, b, c)$:"
   ]
  },
  {
   "cell_type": "code",
   "execution_count": 13,
   "metadata": {
    "collapsed": true
   },
   "outputs": [],
   "source": [
    "M = epi_img.affine[:3, :3]\n",
    "abc = epi_img.affine[:3, 3]"
   ]
  },
  {
   "cell_type": "markdown",
   "metadata": {},
   "source": [
    "Then we can define our function $f$:"
   ]
  },
  {
   "cell_type": "code",
   "execution_count": 14,
   "metadata": {
    "collapsed": true
   },
   "outputs": [],
   "source": [
    "def f(i, j, k):\n",
    "    \"\"\" Transform from voxel to scanner coordinates\n",
    "    \n",
    "    Parameters\n",
    "    ----------\n",
    "    i, j, k : int \n",
    "        voxel coordinates \n",
    "    \n",
    "    Returns\n",
    "    -------\n",
    "    x, y, z : float array \n",
    "        scanner coordinates\n",
    "    \n",
    "    \"\"\"\n",
    "    return np.dot(M, [i, j, k]) + abc"
   ]
  },
  {
   "cell_type": "code",
   "execution_count": 16,
   "metadata": {
    "collapsed": false
   },
   "outputs": [],
   "source": [
    "epi_vox_center = (np.array(epi_data.shape) - 1) / 2."
   ]
  },
  {
   "cell_type": "code",
   "execution_count": 17,
   "metadata": {
    "collapsed": false
   },
   "outputs": [
    {
     "data": {
      "text/plain": [
       "array([ 0.        , -4.20468569,  8.45297015])"
      ]
     },
     "execution_count": 17,
     "metadata": {},
     "output_type": "execute_result"
    }
   ],
   "source": [
    "f(epi_vox_center[0], epi_vox_center[1], epi_vox_center[2])"
   ]
  },
  {
   "cell_type": "markdown",
   "metadata": {},
   "source": [
    "Or more generally:"
   ]
  },
  {
   "cell_type": "code",
   "execution_count": 18,
   "metadata": {
    "collapsed": true
   },
   "outputs": [],
   "source": [
    "def f(i, j, k, affine):\n",
    "    \"\"\" \n",
    "    Transform from voxel to scanner coordinates\n",
    "    \n",
    "    Parameters\n",
    "    ----------\n",
    "    i, j, k : voxel coordinates \n",
    "    \n",
    "    affine : 4x4 array\n",
    "       The affine transformation of the image\n",
    "    \n",
    "    Returns\n",
    "    -------\n",
    "    x, y, z : scanner coordinates\n",
    "    \n",
    "    \"\"\"\n",
    "    M = affine[:3, :3]\n",
    "    abc = affine[:3, 3]\n",
    "    return np.dot(M, [i, j, k]) + abc"
   ]
  },
  {
   "cell_type": "code",
   "execution_count": 19,
   "metadata": {
    "collapsed": false
   },
   "outputs": [
    {
     "data": {
      "text/plain": [
       "array([ 0.        , -4.20468569,  8.45297015])"
      ]
     },
     "execution_count": 19,
     "metadata": {},
     "output_type": "execute_result"
    }
   ],
   "source": [
    "f(epi_vox_center[0], epi_vox_center[1], epi_vox_center[2], epi_affine)"
   ]
  },
  {
   "cell_type": "markdown",
   "metadata": {},
   "source": [
    "### What does it mean?\n",
    "\n",
    "That means the center of the image field of view is at the isocenter of the\n",
    "magnet on the left to right axis, and is around 4.2mm posterior to the\n",
    "isocenter and ~8.5 mm above the isocenter.\n",
    "\n",
    "The parameters in the affine array can therefore give the position of any\n",
    "voxel coordinate, relative to the scanner RAS+ reference space.\n",
    "\n",
    "We get the same result from applying the affine directly instead of using $M$\n",
    "and $(a, b, c)$ in our function. As above, we need to add a 1\n",
    "to the end of the vector to apply the 4 by 4 affine matrix."
   ]
  },
  {
   "cell_type": "code",
   "execution_count": 22,
   "metadata": {
    "collapsed": false
   },
   "outputs": [
    {
     "data": {
      "text/plain": [
       "array([ 0.        , -4.20468569,  8.45297015,  1.        ])"
      ]
     },
     "execution_count": 22,
     "metadata": {},
     "output_type": "execute_result"
    }
   ],
   "source": [
    "np.dot(epi_affine, np.concatenate([epi_vox_center, [1]]))"
   ]
  },
  {
   "cell_type": "markdown",
   "metadata": {},
   "source": [
    "In fact nibabel has a function ``apply_affine`` that applies an affine to an\n",
    "$(i, j, k)$ point by splitting the affine into $M$ and $abc$ then multiplying\n",
    "and adding as above:"
   ]
  },
  {
   "cell_type": "code",
   "execution_count": 24,
   "metadata": {
    "collapsed": false
   },
   "outputs": [
    {
     "data": {
      "text/plain": [
       "array([ 0.        , -4.20468569,  8.45297015])"
      ]
     },
     "execution_count": 24,
     "metadata": {},
     "output_type": "execute_result"
    }
   ],
   "source": [
    "from nibabel.affines import apply_affine\n",
    "apply_affine(epi_img.affine, epi_vox_center)"
   ]
  },
  {
   "cell_type": "code",
   "execution_count": null,
   "metadata": {
    "collapsed": true
   },
   "outputs": [],
   "source": []
  }
 ],
 "metadata": {
  "kernelspec": {
   "display_name": "Python 2",
   "language": "python",
   "name": "python2"
  },
  "language_info": {
   "codemirror_mode": {
    "name": "ipython",
    "version": 2
   },
   "file_extension": ".py",
   "mimetype": "text/x-python",
   "name": "python",
   "nbconvert_exporter": "python",
   "pygments_lexer": "ipython2",
   "version": "2.7.10"
  }
 },
 "nbformat": 4,
 "nbformat_minor": 0
}
