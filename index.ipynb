{
 "cells": [
  {
   "cell_type": "markdown",
   "metadata": {},
   "source": [
    "This is the list of notebooks we will go through in this session:\n",
    "\n",
    "1. [notebooks](000-notebooks.ipynb)\n",
    "\n",
    "1. [arrays](001-arrays.ipynb)\n",
    "\n",
    "1. [plots](002-plots.ipynb)\n",
    "\n",
    "1. [calculations](003-calculations.ipynb)\n",
    "\n",
    "1. [interactions](004-interactions.ipynb)"
   ]
  },
  {
   "cell_type": "code",
   "execution_count": null,
   "metadata": {
    "collapsed": true
   },
   "outputs": [],
   "source": []
  }
 ],
 "metadata": {
  "kernelspec": {
   "display_name": "Python 3",
   "language": "python",
   "name": "python3"
  },
  "language_info": {
   "codemirror_mode": {
    "name": "ipython",
    "version": 3
   },
   "file_extension": ".py",
   "mimetype": "text/x-python",
   "name": "python",
   "nbconvert_exporter": "python",
   "pygments_lexer": "ipython3",
   "version": "3.4.3"
  }
 },
 "nbformat": 4,
 "nbformat_minor": 0
}
